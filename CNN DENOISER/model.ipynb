{
 "cells": [
  {
   "cell_type": "code",
   "execution_count": 38,
   "metadata": {},
   "outputs": [],
   "source": [
    "import pandas as pd\n",
    "import numpy as np\n",
    "from sklearn.model_selection import train_test_split\n",
    "import tensorflow as tf\n",
    "from tensorflow.keras import layers,models\n",
    "from sklearn.preprocessing import MinMaxScaler\n",
    "from keras.utils import to_categorical\n",
    "import matplotlib.pyplot as plt "
   ]
  },
  {
   "cell_type": "code",
   "execution_count": 2,
   "metadata": {},
   "outputs": [],
   "source": [
    "dataset = pd.read_csv(\"/home/aditya/ADITYA/Projects/Denoise/audio_features_with_labels.csv\")"
   ]
  },
  {
   "cell_type": "code",
   "execution_count": 3,
   "metadata": {},
   "outputs": [
    {
     "data": {
      "text/html": [
       "<div>\n",
       "<style scoped>\n",
       "    .dataframe tbody tr th:only-of-type {\n",
       "        vertical-align: middle;\n",
       "    }\n",
       "\n",
       "    .dataframe tbody tr th {\n",
       "        vertical-align: top;\n",
       "    }\n",
       "\n",
       "    .dataframe thead th {\n",
       "        text-align: right;\n",
       "    }\n",
       "</style>\n",
       "<table border=\"1\" class=\"dataframe\">\n",
       "  <thead>\n",
       "    <tr style=\"text-align: right;\">\n",
       "      <th></th>\n",
       "      <th>feature_0</th>\n",
       "      <th>feature_1</th>\n",
       "      <th>feature_2</th>\n",
       "      <th>feature_3</th>\n",
       "      <th>feature_4</th>\n",
       "      <th>feature_5</th>\n",
       "      <th>feature_6</th>\n",
       "      <th>feature_7</th>\n",
       "      <th>feature_8</th>\n",
       "      <th>feature_9</th>\n",
       "      <th>...</th>\n",
       "      <th>feature_40</th>\n",
       "      <th>feature_41</th>\n",
       "      <th>feature_42</th>\n",
       "      <th>feature_43</th>\n",
       "      <th>feature_44</th>\n",
       "      <th>feature_45</th>\n",
       "      <th>feature_46</th>\n",
       "      <th>feature_47</th>\n",
       "      <th>feature_48</th>\n",
       "      <th>label</th>\n",
       "    </tr>\n",
       "  </thead>\n",
       "  <tbody>\n",
       "    <tr>\n",
       "      <th>0</th>\n",
       "      <td>-299.82755</td>\n",
       "      <td>161.920550</td>\n",
       "      <td>-42.986015</td>\n",
       "      <td>17.291681</td>\n",
       "      <td>-9.258543</td>\n",
       "      <td>0.352771</td>\n",
       "      <td>-22.677830</td>\n",
       "      <td>-16.391844</td>\n",
       "      <td>-20.816635</td>\n",
       "      <td>-6.810088</td>\n",
       "      <td>...</td>\n",
       "      <td>0.200054</td>\n",
       "      <td>0.166085</td>\n",
       "      <td>0.288850</td>\n",
       "      <td>0.146710</td>\n",
       "      <td>0.210376</td>\n",
       "      <td>0.234634</td>\n",
       "      <td>0.390072</td>\n",
       "      <td>0.343456</td>\n",
       "      <td>0.241421</td>\n",
       "      <td>fold8</td>\n",
       "    </tr>\n",
       "    <tr>\n",
       "      <th>1</th>\n",
       "      <td>-159.23601</td>\n",
       "      <td>141.497200</td>\n",
       "      <td>-72.412490</td>\n",
       "      <td>-14.045747</td>\n",
       "      <td>-31.530480</td>\n",
       "      <td>-2.079339</td>\n",
       "      <td>-31.011710</td>\n",
       "      <td>3.170327</td>\n",
       "      <td>-22.956690</td>\n",
       "      <td>-2.027877</td>\n",
       "      <td>...</td>\n",
       "      <td>0.300713</td>\n",
       "      <td>0.365584</td>\n",
       "      <td>0.182047</td>\n",
       "      <td>0.241449</td>\n",
       "      <td>0.430506</td>\n",
       "      <td>0.307052</td>\n",
       "      <td>0.353095</td>\n",
       "      <td>0.198946</td>\n",
       "      <td>0.270798</td>\n",
       "      <td>fold8</td>\n",
       "    </tr>\n",
       "    <tr>\n",
       "      <th>2</th>\n",
       "      <td>-347.25380</td>\n",
       "      <td>81.683920</td>\n",
       "      <td>4.630914</td>\n",
       "      <td>29.517320</td>\n",
       "      <td>-2.358563</td>\n",
       "      <td>7.258026</td>\n",
       "      <td>1.432311</td>\n",
       "      <td>11.312077</td>\n",
       "      <td>-11.228522</td>\n",
       "      <td>8.196815</td>\n",
       "      <td>...</td>\n",
       "      <td>0.354507</td>\n",
       "      <td>0.266855</td>\n",
       "      <td>0.257950</td>\n",
       "      <td>0.272695</td>\n",
       "      <td>0.276310</td>\n",
       "      <td>0.290093</td>\n",
       "      <td>0.270885</td>\n",
       "      <td>0.282254</td>\n",
       "      <td>0.289429</td>\n",
       "      <td>fold8</td>\n",
       "    </tr>\n",
       "    <tr>\n",
       "      <th>3</th>\n",
       "      <td>-236.47750</td>\n",
       "      <td>169.871190</td>\n",
       "      <td>-36.489277</td>\n",
       "      <td>33.065678</td>\n",
       "      <td>-11.959123</td>\n",
       "      <td>26.728968</td>\n",
       "      <td>-29.550335</td>\n",
       "      <td>22.830448</td>\n",
       "      <td>-19.267536</td>\n",
       "      <td>5.290238</td>\n",
       "      <td>...</td>\n",
       "      <td>0.245136</td>\n",
       "      <td>0.229481</td>\n",
       "      <td>0.262452</td>\n",
       "      <td>0.237843</td>\n",
       "      <td>0.503760</td>\n",
       "      <td>0.319610</td>\n",
       "      <td>0.238971</td>\n",
       "      <td>0.241377</td>\n",
       "      <td>0.295423</td>\n",
       "      <td>fold8</td>\n",
       "    </tr>\n",
       "    <tr>\n",
       "      <th>4</th>\n",
       "      <td>-391.06015</td>\n",
       "      <td>106.025536</td>\n",
       "      <td>3.993231</td>\n",
       "      <td>28.169186</td>\n",
       "      <td>13.174751</td>\n",
       "      <td>6.092801</td>\n",
       "      <td>-15.872272</td>\n",
       "      <td>-2.305582</td>\n",
       "      <td>-5.397427</td>\n",
       "      <td>-5.592200</td>\n",
       "      <td>...</td>\n",
       "      <td>0.260017</td>\n",
       "      <td>0.255695</td>\n",
       "      <td>0.259007</td>\n",
       "      <td>0.309162</td>\n",
       "      <td>0.313341</td>\n",
       "      <td>0.282600</td>\n",
       "      <td>0.243095</td>\n",
       "      <td>0.225221</td>\n",
       "      <td>0.173567</td>\n",
       "      <td>fold8</td>\n",
       "    </tr>\n",
       "    <tr>\n",
       "      <th>...</th>\n",
       "      <td>...</td>\n",
       "      <td>...</td>\n",
       "      <td>...</td>\n",
       "      <td>...</td>\n",
       "      <td>...</td>\n",
       "      <td>...</td>\n",
       "      <td>...</td>\n",
       "      <td>...</td>\n",
       "      <td>...</td>\n",
       "      <td>...</td>\n",
       "      <td>...</td>\n",
       "      <td>...</td>\n",
       "      <td>...</td>\n",
       "      <td>...</td>\n",
       "      <td>...</td>\n",
       "      <td>...</td>\n",
       "      <td>...</td>\n",
       "      <td>...</td>\n",
       "      <td>...</td>\n",
       "      <td>...</td>\n",
       "      <td>...</td>\n",
       "    </tr>\n",
       "    <tr>\n",
       "      <th>8727</th>\n",
       "      <td>-127.10550</td>\n",
       "      <td>75.694000</td>\n",
       "      <td>-40.375282</td>\n",
       "      <td>52.278736</td>\n",
       "      <td>1.591725</td>\n",
       "      <td>30.898699</td>\n",
       "      <td>-9.234956</td>\n",
       "      <td>27.621975</td>\n",
       "      <td>1.926606</td>\n",
       "      <td>-0.616720</td>\n",
       "      <td>...</td>\n",
       "      <td>0.208848</td>\n",
       "      <td>0.189586</td>\n",
       "      <td>0.216372</td>\n",
       "      <td>0.239839</td>\n",
       "      <td>0.435918</td>\n",
       "      <td>0.405155</td>\n",
       "      <td>0.368892</td>\n",
       "      <td>0.138490</td>\n",
       "      <td>0.220771</td>\n",
       "      <td>fold4</td>\n",
       "    </tr>\n",
       "    <tr>\n",
       "      <th>8728</th>\n",
       "      <td>-337.26440</td>\n",
       "      <td>142.297150</td>\n",
       "      <td>-68.321785</td>\n",
       "      <td>33.001240</td>\n",
       "      <td>-29.197311</td>\n",
       "      <td>16.973269</td>\n",
       "      <td>7.759877</td>\n",
       "      <td>9.823354</td>\n",
       "      <td>6.562455</td>\n",
       "      <td>10.994356</td>\n",
       "      <td>...</td>\n",
       "      <td>0.332337</td>\n",
       "      <td>0.399194</td>\n",
       "      <td>0.452183</td>\n",
       "      <td>0.249549</td>\n",
       "      <td>0.269017</td>\n",
       "      <td>0.250904</td>\n",
       "      <td>0.238200</td>\n",
       "      <td>0.196331</td>\n",
       "      <td>0.221189</td>\n",
       "      <td>fold4</td>\n",
       "    </tr>\n",
       "    <tr>\n",
       "      <th>8729</th>\n",
       "      <td>-528.29890</td>\n",
       "      <td>136.650330</td>\n",
       "      <td>6.392556</td>\n",
       "      <td>1.529255</td>\n",
       "      <td>-13.484799</td>\n",
       "      <td>-8.145865</td>\n",
       "      <td>-5.186058</td>\n",
       "      <td>6.606945</td>\n",
       "      <td>0.167064</td>\n",
       "      <td>-5.328062</td>\n",
       "      <td>...</td>\n",
       "      <td>0.284440</td>\n",
       "      <td>0.270789</td>\n",
       "      <td>0.245537</td>\n",
       "      <td>0.268527</td>\n",
       "      <td>0.272564</td>\n",
       "      <td>0.318459</td>\n",
       "      <td>0.316753</td>\n",
       "      <td>0.302065</td>\n",
       "      <td>0.296234</td>\n",
       "      <td>fold4</td>\n",
       "    </tr>\n",
       "    <tr>\n",
       "      <th>8730</th>\n",
       "      <td>-257.98395</td>\n",
       "      <td>147.511120</td>\n",
       "      <td>-26.680098</td>\n",
       "      <td>49.505590</td>\n",
       "      <td>-13.572097</td>\n",
       "      <td>38.290874</td>\n",
       "      <td>-8.247279</td>\n",
       "      <td>21.642666</td>\n",
       "      <td>-11.039514</td>\n",
       "      <td>21.161846</td>\n",
       "      <td>...</td>\n",
       "      <td>0.315960</td>\n",
       "      <td>0.249379</td>\n",
       "      <td>0.227828</td>\n",
       "      <td>0.193679</td>\n",
       "      <td>0.145686</td>\n",
       "      <td>0.556835</td>\n",
       "      <td>0.260564</td>\n",
       "      <td>0.321886</td>\n",
       "      <td>0.152597</td>\n",
       "      <td>fold4</td>\n",
       "    </tr>\n",
       "    <tr>\n",
       "      <th>8731</th>\n",
       "      <td>-443.02002</td>\n",
       "      <td>243.941330</td>\n",
       "      <td>13.164351</td>\n",
       "      <td>13.661469</td>\n",
       "      <td>8.466457</td>\n",
       "      <td>3.542790</td>\n",
       "      <td>4.610527</td>\n",
       "      <td>7.484221</td>\n",
       "      <td>9.074920</td>\n",
       "      <td>-7.900480</td>\n",
       "      <td>...</td>\n",
       "      <td>0.228238</td>\n",
       "      <td>0.249394</td>\n",
       "      <td>0.265176</td>\n",
       "      <td>0.323321</td>\n",
       "      <td>0.199069</td>\n",
       "      <td>0.277865</td>\n",
       "      <td>0.319064</td>\n",
       "      <td>0.301001</td>\n",
       "      <td>0.238221</td>\n",
       "      <td>fold4</td>\n",
       "    </tr>\n",
       "  </tbody>\n",
       "</table>\n",
       "<p>8732 rows × 50 columns</p>\n",
       "</div>"
      ],
      "text/plain": [
       "      feature_0   feature_1  feature_2  feature_3  feature_4  feature_5  \\\n",
       "0    -299.82755  161.920550 -42.986015  17.291681  -9.258543   0.352771   \n",
       "1    -159.23601  141.497200 -72.412490 -14.045747 -31.530480  -2.079339   \n",
       "2    -347.25380   81.683920   4.630914  29.517320  -2.358563   7.258026   \n",
       "3    -236.47750  169.871190 -36.489277  33.065678 -11.959123  26.728968   \n",
       "4    -391.06015  106.025536   3.993231  28.169186  13.174751   6.092801   \n",
       "...         ...         ...        ...        ...        ...        ...   \n",
       "8727 -127.10550   75.694000 -40.375282  52.278736   1.591725  30.898699   \n",
       "8728 -337.26440  142.297150 -68.321785  33.001240 -29.197311  16.973269   \n",
       "8729 -528.29890  136.650330   6.392556   1.529255 -13.484799  -8.145865   \n",
       "8730 -257.98395  147.511120 -26.680098  49.505590 -13.572097  38.290874   \n",
       "8731 -443.02002  243.941330  13.164351  13.661469   8.466457   3.542790   \n",
       "\n",
       "      feature_6  feature_7  feature_8  feature_9  ...  feature_40  feature_41  \\\n",
       "0    -22.677830 -16.391844 -20.816635  -6.810088  ...    0.200054    0.166085   \n",
       "1    -31.011710   3.170327 -22.956690  -2.027877  ...    0.300713    0.365584   \n",
       "2      1.432311  11.312077 -11.228522   8.196815  ...    0.354507    0.266855   \n",
       "3    -29.550335  22.830448 -19.267536   5.290238  ...    0.245136    0.229481   \n",
       "4    -15.872272  -2.305582  -5.397427  -5.592200  ...    0.260017    0.255695   \n",
       "...         ...        ...        ...        ...  ...         ...         ...   \n",
       "8727  -9.234956  27.621975   1.926606  -0.616720  ...    0.208848    0.189586   \n",
       "8728   7.759877   9.823354   6.562455  10.994356  ...    0.332337    0.399194   \n",
       "8729  -5.186058   6.606945   0.167064  -5.328062  ...    0.284440    0.270789   \n",
       "8730  -8.247279  21.642666 -11.039514  21.161846  ...    0.315960    0.249379   \n",
       "8731   4.610527   7.484221   9.074920  -7.900480  ...    0.228238    0.249394   \n",
       "\n",
       "      feature_42  feature_43  feature_44  feature_45  feature_46  feature_47  \\\n",
       "0       0.288850    0.146710    0.210376    0.234634    0.390072    0.343456   \n",
       "1       0.182047    0.241449    0.430506    0.307052    0.353095    0.198946   \n",
       "2       0.257950    0.272695    0.276310    0.290093    0.270885    0.282254   \n",
       "3       0.262452    0.237843    0.503760    0.319610    0.238971    0.241377   \n",
       "4       0.259007    0.309162    0.313341    0.282600    0.243095    0.225221   \n",
       "...          ...         ...         ...         ...         ...         ...   \n",
       "8727    0.216372    0.239839    0.435918    0.405155    0.368892    0.138490   \n",
       "8728    0.452183    0.249549    0.269017    0.250904    0.238200    0.196331   \n",
       "8729    0.245537    0.268527    0.272564    0.318459    0.316753    0.302065   \n",
       "8730    0.227828    0.193679    0.145686    0.556835    0.260564    0.321886   \n",
       "8731    0.265176    0.323321    0.199069    0.277865    0.319064    0.301001   \n",
       "\n",
       "      feature_48  label  \n",
       "0       0.241421  fold8  \n",
       "1       0.270798  fold8  \n",
       "2       0.289429  fold8  \n",
       "3       0.295423  fold8  \n",
       "4       0.173567  fold8  \n",
       "...          ...    ...  \n",
       "8727    0.220771  fold4  \n",
       "8728    0.221189  fold4  \n",
       "8729    0.296234  fold4  \n",
       "8730    0.152597  fold4  \n",
       "8731    0.238221  fold4  \n",
       "\n",
       "[8732 rows x 50 columns]"
      ]
     },
     "execution_count": 3,
     "metadata": {},
     "output_type": "execute_result"
    }
   ],
   "source": [
    "dataset "
   ]
  },
  {
   "cell_type": "code",
   "execution_count": 4,
   "metadata": {},
   "outputs": [],
   "source": [
    "# Assuming 'label' column has values like 'fold8', 'fold4', etc.\n",
    "dataset['label'] = dataset['label'].map(lambda x: int(x.replace('fold', '')))"
   ]
  },
  {
   "cell_type": "code",
   "execution_count": 5,
   "metadata": {},
   "outputs": [
    {
     "name": "stdout",
     "output_type": "stream",
     "text": [
      "[0, 873, 888, 925, 990, 936, 823, 838, 806, 816, 837]\n"
     ]
    }
   ],
   "source": [
    "X=dataset.iloc[:,:-1].values\n",
    "Y=dataset['label']\n",
    "L=[0,0,0,0,0,0,0,0,0,0,0]\n",
    "num =[1,2,3,4,5,6,7,8,9,10]\n",
    "for i in Y:\n",
    "    if i in num:\n",
    "        L[i]=L[i]+1\n",
    "print(L)\n",
    "    "
   ]
  },
  {
   "cell_type": "code",
   "execution_count": 12,
   "metadata": {},
   "outputs": [
    {
     "data": {
      "text/plain": [
       "array([[-2.9982755e+02,  1.6192055e+02, -4.2986015e+01, ...,\n",
       "         3.9007150e-01,  3.4345585e-01,  2.4142067e-01],\n",
       "       [-1.5923601e+02,  1.4149720e+02, -7.2412490e+01, ...,\n",
       "         3.5309494e-01,  1.9894566e-01,  2.7079767e-01],\n",
       "       [-3.4725380e+02,  8.1683920e+01,  4.6309137e+00, ...,\n",
       "         2.7088463e-01,  2.8225362e-01,  2.8942886e-01],\n",
       "       ...,\n",
       "       [-5.2829890e+02,  1.3665033e+02,  6.3925557e+00, ...,\n",
       "         3.1675318e-01,  3.0206516e-01,  2.9623410e-01],\n",
       "       [-2.5798395e+02,  1.4751112e+02, -2.6680098e+01, ...,\n",
       "         2.6056445e-01,  3.2188594e-01,  1.5259673e-01],\n",
       "       [-4.4302002e+02,  2.4394133e+02,  1.3164351e+01, ...,\n",
       "         3.1906390e-01,  3.0100134e-01,  2.3822118e-01]])"
      ]
     },
     "execution_count": 12,
     "metadata": {},
     "output_type": "execute_result"
    }
   ],
   "source": [
    "X"
   ]
  },
  {
   "cell_type": "code",
   "execution_count": 6,
   "metadata": {},
   "outputs": [],
   "source": [
    "X_train, X_test, Y_train, Y_test = train_test_split(X, Y, test_size=0.2, stratify=Y, random_state=42)"
   ]
  },
  {
   "cell_type": "code",
   "execution_count": 16,
   "metadata": {},
   "outputs": [
    {
     "data": {
      "text/plain": [
       "array([-5.9508710e+02,  1.3065553e+02,  1.6845398e+01,  1.1200730e+01,\n",
       "        1.2309774e+01,  9.0795000e+00,  6.3518790e+00,  5.7837605e+00,\n",
       "        7.6222863e+00,  7.7056446e+00,  6.4023843e+00,  7.5124440e+00,\n",
       "        9.8665270e+00,  6.8894010e-01,  7.4320300e-01,  8.0511220e-01,\n",
       "        8.4742060e-01,  8.8149005e-01,  8.6919200e-01,  8.4112930e-01,\n",
       "        7.9987204e-01,  7.4011785e-01,  7.0835584e-01,  6.8087220e-01,\n",
       "        6.5152806e-01,  5.5934940e-01,  8.7083710e-01,  7.9195637e-01,\n",
       "        7.2093410e-01,  5.6196433e-01,  5.0333690e-01,  5.5457480e-01,\n",
       "        5.0915620e-01,  4.1707617e-01,  3.9259392e-01,  3.7384883e-01,\n",
       "        3.5641220e-01,  3.1637692e-01,  4.4219580e-01,  3.7779397e-01,\n",
       "        3.4822175e-01,  2.5522906e-01,  2.4859901e-01,  2.7737266e-01,\n",
       "        2.3984508e-01,  1.4733400e-01,  1.6061336e-01,  1.2553310e-01,\n",
       "        1.2143661e-01])"
      ]
     },
     "execution_count": 16,
     "metadata": {},
     "output_type": "execute_result"
    }
   ],
   "source": [
    "X_train[0]"
   ]
  },
  {
   "cell_type": "code",
   "execution_count": 15,
   "metadata": {},
   "outputs": [],
   "source": [
    "scaler = MinMaxScaler(feature_range=(0,1))\n",
    "X_train_scaled = scaler.fit_transform(X_train)\n",
    "X_test_scaled = scaler.transform(X_test)"
   ]
  },
  {
   "cell_type": "code",
   "execution_count": 17,
   "metadata": {},
   "outputs": [
    {
     "data": {
      "text/plain": [
       "array([0.22726833, 0.5238175 , 0.73942602, 0.5210466 , 0.62812098,\n",
       "       0.53710678, 0.52511501, 0.54010561, 0.54428425, 0.64989443,\n",
       "       0.65427901, 0.56670976, 0.62206029, 0.68848272, 0.7427765 ,\n",
       "       0.80461756, 0.85176021, 0.88104807, 0.86888102, 0.84082665,\n",
       "       0.81103362, 0.7399076 , 0.70807853, 0.68295484, 0.65096999,\n",
       "       0.53968005, 0.86888744, 0.78788315, 0.70591137, 0.55033952,\n",
       "       0.49165223, 0.54660048, 0.48814437, 0.39056515, 0.37293965,\n",
       "       0.35657019, 0.3341133 , 0.39513412, 0.55021311, 0.43296075,\n",
       "       0.42661219, 0.31083498, 0.2927605 , 0.36031854, 0.33649706,\n",
       "       0.17675249, 0.19931971, 0.16756123, 0.13674967])"
      ]
     },
     "execution_count": 17,
     "metadata": {},
     "output_type": "execute_result"
    }
   ],
   "source": [
    "X_train_scaled[0]"
   ]
  },
  {
   "cell_type": "code",
   "execution_count": 9,
   "metadata": {},
   "outputs": [
    {
     "data": {
      "text/plain": [
       "(8732, 49)"
      ]
     },
     "execution_count": 9,
     "metadata": {},
     "output_type": "execute_result"
    }
   ],
   "source": [
    "X.shape"
   ]
  },
  {
   "cell_type": "code",
   "execution_count": 28,
   "metadata": {},
   "outputs": [
    {
     "data": {
      "text/html": [
       "<pre style=\"white-space:pre;overflow-x:auto;line-height:normal;font-family:Menlo,'DejaVu Sans Mono',consolas,'Courier New',monospace\"><span style=\"font-weight: bold\">Model: \"sequential_1\"</span>\n",
       "</pre>\n"
      ],
      "text/plain": [
       "\u001b[1mModel: \"sequential_1\"\u001b[0m\n"
      ]
     },
     "metadata": {},
     "output_type": "display_data"
    },
    {
     "data": {
      "text/html": [
       "<pre style=\"white-space:pre;overflow-x:auto;line-height:normal;font-family:Menlo,'DejaVu Sans Mono',consolas,'Courier New',monospace\">┏━━━━━━━━━━━━━━━━━━━━━━━━━━━━━━━━━┳━━━━━━━━━━━━━━━━━━━━━━━━┳━━━━━━━━━━━━━━━┓\n",
       "┃<span style=\"font-weight: bold\"> Layer (type)                    </span>┃<span style=\"font-weight: bold\"> Output Shape           </span>┃<span style=\"font-weight: bold\">       Param # </span>┃\n",
       "┡━━━━━━━━━━━━━━━━━━━━━━━━━━━━━━━━━╇━━━━━━━━━━━━━━━━━━━━━━━━╇━━━━━━━━━━━━━━━┩\n",
       "│ conv2d_2 (<span style=\"color: #0087ff; text-decoration-color: #0087ff\">Conv2D</span>)               │ (<span style=\"color: #00d7ff; text-decoration-color: #00d7ff\">None</span>, <span style=\"color: #00af00; text-decoration-color: #00af00\">1</span>, <span style=\"color: #00af00; text-decoration-color: #00af00\">49</span>, <span style=\"color: #00af00; text-decoration-color: #00af00\">128</span>)     │         <span style=\"color: #00af00; text-decoration-color: #00af00\">3,328</span> │\n",
       "├─────────────────────────────────┼────────────────────────┼───────────────┤\n",
       "│ max_pooling2d_2 (<span style=\"color: #0087ff; text-decoration-color: #0087ff\">MaxPooling2D</span>)  │ (<span style=\"color: #00d7ff; text-decoration-color: #00d7ff\">None</span>, <span style=\"color: #00af00; text-decoration-color: #00af00\">1</span>, <span style=\"color: #00af00; text-decoration-color: #00af00\">25</span>, <span style=\"color: #00af00; text-decoration-color: #00af00\">128</span>)     │             <span style=\"color: #00af00; text-decoration-color: #00af00\">0</span> │\n",
       "├─────────────────────────────────┼────────────────────────┼───────────────┤\n",
       "│ conv2d_3 (<span style=\"color: #0087ff; text-decoration-color: #0087ff\">Conv2D</span>)               │ (<span style=\"color: #00d7ff; text-decoration-color: #00d7ff\">None</span>, <span style=\"color: #00af00; text-decoration-color: #00af00\">1</span>, <span style=\"color: #00af00; text-decoration-color: #00af00\">25</span>, <span style=\"color: #00af00; text-decoration-color: #00af00\">256</span>)     │       <span style=\"color: #00af00; text-decoration-color: #00af00\">819,456</span> │\n",
       "├─────────────────────────────────┼────────────────────────┼───────────────┤\n",
       "│ max_pooling2d_3 (<span style=\"color: #0087ff; text-decoration-color: #0087ff\">MaxPooling2D</span>)  │ (<span style=\"color: #00d7ff; text-decoration-color: #00d7ff\">None</span>, <span style=\"color: #00af00; text-decoration-color: #00af00\">1</span>, <span style=\"color: #00af00; text-decoration-color: #00af00\">13</span>, <span style=\"color: #00af00; text-decoration-color: #00af00\">256</span>)     │             <span style=\"color: #00af00; text-decoration-color: #00af00\">0</span> │\n",
       "├─────────────────────────────────┼────────────────────────┼───────────────┤\n",
       "│ dropout_3 (<span style=\"color: #0087ff; text-decoration-color: #0087ff\">Dropout</span>)             │ (<span style=\"color: #00d7ff; text-decoration-color: #00d7ff\">None</span>, <span style=\"color: #00af00; text-decoration-color: #00af00\">1</span>, <span style=\"color: #00af00; text-decoration-color: #00af00\">13</span>, <span style=\"color: #00af00; text-decoration-color: #00af00\">256</span>)     │             <span style=\"color: #00af00; text-decoration-color: #00af00\">0</span> │\n",
       "├─────────────────────────────────┼────────────────────────┼───────────────┤\n",
       "│ flatten_1 (<span style=\"color: #0087ff; text-decoration-color: #0087ff\">Flatten</span>)             │ (<span style=\"color: #00d7ff; text-decoration-color: #00d7ff\">None</span>, <span style=\"color: #00af00; text-decoration-color: #00af00\">3328</span>)           │             <span style=\"color: #00af00; text-decoration-color: #00af00\">0</span> │\n",
       "├─────────────────────────────────┼────────────────────────┼───────────────┤\n",
       "│ dense_3 (<span style=\"color: #0087ff; text-decoration-color: #0087ff\">Dense</span>)                 │ (<span style=\"color: #00d7ff; text-decoration-color: #00d7ff\">None</span>, <span style=\"color: #00af00; text-decoration-color: #00af00\">512</span>)            │     <span style=\"color: #00af00; text-decoration-color: #00af00\">1,704,448</span> │\n",
       "├─────────────────────────────────┼────────────────────────┼───────────────┤\n",
       "│ dropout_4 (<span style=\"color: #0087ff; text-decoration-color: #0087ff\">Dropout</span>)             │ (<span style=\"color: #00d7ff; text-decoration-color: #00d7ff\">None</span>, <span style=\"color: #00af00; text-decoration-color: #00af00\">512</span>)            │             <span style=\"color: #00af00; text-decoration-color: #00af00\">0</span> │\n",
       "├─────────────────────────────────┼────────────────────────┼───────────────┤\n",
       "│ dense_4 (<span style=\"color: #0087ff; text-decoration-color: #0087ff\">Dense</span>)                 │ (<span style=\"color: #00d7ff; text-decoration-color: #00d7ff\">None</span>, <span style=\"color: #00af00; text-decoration-color: #00af00\">1024</span>)           │       <span style=\"color: #00af00; text-decoration-color: #00af00\">525,312</span> │\n",
       "├─────────────────────────────────┼────────────────────────┼───────────────┤\n",
       "│ dropout_5 (<span style=\"color: #0087ff; text-decoration-color: #0087ff\">Dropout</span>)             │ (<span style=\"color: #00d7ff; text-decoration-color: #00d7ff\">None</span>, <span style=\"color: #00af00; text-decoration-color: #00af00\">1024</span>)           │             <span style=\"color: #00af00; text-decoration-color: #00af00\">0</span> │\n",
       "├─────────────────────────────────┼────────────────────────┼───────────────┤\n",
       "│ dense_5 (<span style=\"color: #0087ff; text-decoration-color: #0087ff\">Dense</span>)                 │ (<span style=\"color: #00d7ff; text-decoration-color: #00d7ff\">None</span>, <span style=\"color: #00af00; text-decoration-color: #00af00\">10</span>)             │        <span style=\"color: #00af00; text-decoration-color: #00af00\">10,250</span> │\n",
       "└─────────────────────────────────┴────────────────────────┴───────────────┘\n",
       "</pre>\n"
      ],
      "text/plain": [
       "┏━━━━━━━━━━━━━━━━━━━━━━━━━━━━━━━━━┳━━━━━━━━━━━━━━━━━━━━━━━━┳━━━━━━━━━━━━━━━┓\n",
       "┃\u001b[1m \u001b[0m\u001b[1mLayer (type)                   \u001b[0m\u001b[1m \u001b[0m┃\u001b[1m \u001b[0m\u001b[1mOutput Shape          \u001b[0m\u001b[1m \u001b[0m┃\u001b[1m \u001b[0m\u001b[1m      Param #\u001b[0m\u001b[1m \u001b[0m┃\n",
       "┡━━━━━━━━━━━━━━━━━━━━━━━━━━━━━━━━━╇━━━━━━━━━━━━━━━━━━━━━━━━╇━━━━━━━━━━━━━━━┩\n",
       "│ conv2d_2 (\u001b[38;5;33mConv2D\u001b[0m)               │ (\u001b[38;5;45mNone\u001b[0m, \u001b[38;5;34m1\u001b[0m, \u001b[38;5;34m49\u001b[0m, \u001b[38;5;34m128\u001b[0m)     │         \u001b[38;5;34m3,328\u001b[0m │\n",
       "├─────────────────────────────────┼────────────────────────┼───────────────┤\n",
       "│ max_pooling2d_2 (\u001b[38;5;33mMaxPooling2D\u001b[0m)  │ (\u001b[38;5;45mNone\u001b[0m, \u001b[38;5;34m1\u001b[0m, \u001b[38;5;34m25\u001b[0m, \u001b[38;5;34m128\u001b[0m)     │             \u001b[38;5;34m0\u001b[0m │\n",
       "├─────────────────────────────────┼────────────────────────┼───────────────┤\n",
       "│ conv2d_3 (\u001b[38;5;33mConv2D\u001b[0m)               │ (\u001b[38;5;45mNone\u001b[0m, \u001b[38;5;34m1\u001b[0m, \u001b[38;5;34m25\u001b[0m, \u001b[38;5;34m256\u001b[0m)     │       \u001b[38;5;34m819,456\u001b[0m │\n",
       "├─────────────────────────────────┼────────────────────────┼───────────────┤\n",
       "│ max_pooling2d_3 (\u001b[38;5;33mMaxPooling2D\u001b[0m)  │ (\u001b[38;5;45mNone\u001b[0m, \u001b[38;5;34m1\u001b[0m, \u001b[38;5;34m13\u001b[0m, \u001b[38;5;34m256\u001b[0m)     │             \u001b[38;5;34m0\u001b[0m │\n",
       "├─────────────────────────────────┼────────────────────────┼───────────────┤\n",
       "│ dropout_3 (\u001b[38;5;33mDropout\u001b[0m)             │ (\u001b[38;5;45mNone\u001b[0m, \u001b[38;5;34m1\u001b[0m, \u001b[38;5;34m13\u001b[0m, \u001b[38;5;34m256\u001b[0m)     │             \u001b[38;5;34m0\u001b[0m │\n",
       "├─────────────────────────────────┼────────────────────────┼───────────────┤\n",
       "│ flatten_1 (\u001b[38;5;33mFlatten\u001b[0m)             │ (\u001b[38;5;45mNone\u001b[0m, \u001b[38;5;34m3328\u001b[0m)           │             \u001b[38;5;34m0\u001b[0m │\n",
       "├─────────────────────────────────┼────────────────────────┼───────────────┤\n",
       "│ dense_3 (\u001b[38;5;33mDense\u001b[0m)                 │ (\u001b[38;5;45mNone\u001b[0m, \u001b[38;5;34m512\u001b[0m)            │     \u001b[38;5;34m1,704,448\u001b[0m │\n",
       "├─────────────────────────────────┼────────────────────────┼───────────────┤\n",
       "│ dropout_4 (\u001b[38;5;33mDropout\u001b[0m)             │ (\u001b[38;5;45mNone\u001b[0m, \u001b[38;5;34m512\u001b[0m)            │             \u001b[38;5;34m0\u001b[0m │\n",
       "├─────────────────────────────────┼────────────────────────┼───────────────┤\n",
       "│ dense_4 (\u001b[38;5;33mDense\u001b[0m)                 │ (\u001b[38;5;45mNone\u001b[0m, \u001b[38;5;34m1024\u001b[0m)           │       \u001b[38;5;34m525,312\u001b[0m │\n",
       "├─────────────────────────────────┼────────────────────────┼───────────────┤\n",
       "│ dropout_5 (\u001b[38;5;33mDropout\u001b[0m)             │ (\u001b[38;5;45mNone\u001b[0m, \u001b[38;5;34m1024\u001b[0m)           │             \u001b[38;5;34m0\u001b[0m │\n",
       "├─────────────────────────────────┼────────────────────────┼───────────────┤\n",
       "│ dense_5 (\u001b[38;5;33mDense\u001b[0m)                 │ (\u001b[38;5;45mNone\u001b[0m, \u001b[38;5;34m10\u001b[0m)             │        \u001b[38;5;34m10,250\u001b[0m │\n",
       "└─────────────────────────────────┴────────────────────────┴───────────────┘\n"
      ]
     },
     "metadata": {},
     "output_type": "display_data"
    },
    {
     "data": {
      "text/html": [
       "<pre style=\"white-space:pre;overflow-x:auto;line-height:normal;font-family:Menlo,'DejaVu Sans Mono',consolas,'Courier New',monospace\"><span style=\"font-weight: bold\"> Total params: </span><span style=\"color: #00af00; text-decoration-color: #00af00\">3,062,794</span> (11.68 MB)\n",
       "</pre>\n"
      ],
      "text/plain": [
       "\u001b[1m Total params: \u001b[0m\u001b[38;5;34m3,062,794\u001b[0m (11.68 MB)\n"
      ]
     },
     "metadata": {},
     "output_type": "display_data"
    },
    {
     "data": {
      "text/html": [
       "<pre style=\"white-space:pre;overflow-x:auto;line-height:normal;font-family:Menlo,'DejaVu Sans Mono',consolas,'Courier New',monospace\"><span style=\"font-weight: bold\"> Trainable params: </span><span style=\"color: #00af00; text-decoration-color: #00af00\">3,062,794</span> (11.68 MB)\n",
       "</pre>\n"
      ],
      "text/plain": [
       "\u001b[1m Trainable params: \u001b[0m\u001b[38;5;34m3,062,794\u001b[0m (11.68 MB)\n"
      ]
     },
     "metadata": {},
     "output_type": "display_data"
    },
    {
     "data": {
      "text/html": [
       "<pre style=\"white-space:pre;overflow-x:auto;line-height:normal;font-family:Menlo,'DejaVu Sans Mono',consolas,'Courier New',monospace\"><span style=\"font-weight: bold\"> Non-trainable params: </span><span style=\"color: #00af00; text-decoration-color: #00af00\">0</span> (0.00 B)\n",
       "</pre>\n"
      ],
      "text/plain": [
       "\u001b[1m Non-trainable params: \u001b[0m\u001b[38;5;34m0\u001b[0m (0.00 B)\n"
      ]
     },
     "metadata": {},
     "output_type": "display_data"
    }
   ],
   "source": [
    "model = models.Sequential([\n",
    "    layers.Input(shape=(1, 49, 1)),  \n",
    "    layers.Conv2D(128, (5, 5), padding='same', activation='relu', strides=1),\n",
    "    \n",
    "    layers.MaxPooling2D(pool_size=(2, 2), padding='same'),\n",
    "    \n",
    "    layers.Conv2D(256, (5, 5), padding='same', activation='relu', strides=1),\n",
    "    \n",
    "    layers.MaxPooling2D(pool_size=(2, 2), padding='same'),\n",
    "    \n",
    "    layers.Dropout(0.3),\n",
    "    \n",
    "    layers.Flatten(),\n",
    "    \n",
    "    layers.Dense(512, activation='relu'),\n",
    "    layers.Dropout(0.3),\n",
    "    \n",
    "    layers.Dense(1024, activation='relu'),\n",
    "    layers.Dropout(0.3),\n",
    "    \n",
    "    layers.Dense(10, activation='softmax')\n",
    "])\n",
    "\n",
    "model.compile(optimizer='adam', loss='categorical_crossentropy', metrics=['accuracy'])\n",
    "\n",
    "model.summary()"
   ]
  },
  {
   "cell_type": "code",
   "execution_count": 32,
   "metadata": {},
   "outputs": [
    {
     "name": "stdout",
     "output_type": "stream",
     "text": [
      "Unique values in Y_train: [ 1  2  3  4  5  6  7  8  9 10]\n",
      "Unique values in Y_test: [ 1  2  3  4  5  6  7  8  9 10]\n"
     ]
    }
   ],
   "source": [
    "print(\"Unique values in Y_train:\", np.unique(Y_train))\n",
    "print(\"Unique values in Y_test:\", np.unique(Y_test))\n"
   ]
  },
  {
   "cell_type": "code",
   "execution_count": 33,
   "metadata": {},
   "outputs": [],
   "source": [
    "Y_train=Y_train-1\n",
    "Y_test=Y_test-1\n",
    "\n",
    "Y_train = to_categorical(Y_train, num_classes=10)\n",
    "Y_test = to_categorical(Y_test, num_classes=10)"
   ]
  },
  {
   "cell_type": "code",
   "execution_count": 34,
   "metadata": {},
   "outputs": [],
   "source": [
    "X_train_scaled = X_train_scaled.reshape(-1, 1, 49, 1)\n",
    "X_test_scaled = X_test_scaled.reshape(-1, 1, 49, 1)\n"
   ]
  },
  {
   "cell_type": "code",
   "execution_count": 35,
   "metadata": {},
   "outputs": [
    {
     "data": {
      "text/plain": [
       "(1, 49, 1)"
      ]
     },
     "execution_count": 35,
     "metadata": {},
     "output_type": "execute_result"
    }
   ],
   "source": [
    "X_train_scaled[0].shape"
   ]
  },
  {
   "cell_type": "code",
   "execution_count": 36,
   "metadata": {},
   "outputs": [
    {
     "name": "stdout",
     "output_type": "stream",
     "text": [
      "Epoch 1/40\n",
      "\u001b[1m140/140\u001b[0m \u001b[32m━━━━━━━━━━━━━━━━━━━━\u001b[0m\u001b[37m\u001b[0m \u001b[1m11s\u001b[0m 55ms/step - accuracy: 0.1105 - loss: 2.3040 - val_accuracy: 0.1208 - val_loss: 2.2943\n",
      "Epoch 2/40\n",
      "\u001b[1m140/140\u001b[0m \u001b[32m━━━━━━━━━━━━━━━━━━━━\u001b[0m\u001b[37m\u001b[0m \u001b[1m7s\u001b[0m 50ms/step - accuracy: 0.1256 - loss: 2.2833 - val_accuracy: 0.1471 - val_loss: 2.2272\n",
      "Epoch 3/40\n",
      "\u001b[1m140/140\u001b[0m \u001b[32m━━━━━━━━━━━━━━━━━━━━\u001b[0m\u001b[37m\u001b[0m \u001b[1m7s\u001b[0m 50ms/step - accuracy: 0.1759 - loss: 2.2031 - val_accuracy: 0.2473 - val_loss: 2.0946\n",
      "Epoch 4/40\n",
      "\u001b[1m140/140\u001b[0m \u001b[32m━━━━━━━━━━━━━━━━━━━━\u001b[0m\u001b[37m\u001b[0m \u001b[1m7s\u001b[0m 50ms/step - accuracy: 0.2703 - loss: 2.0570 - val_accuracy: 0.3383 - val_loss: 1.8998\n",
      "Epoch 5/40\n",
      "\u001b[1m140/140\u001b[0m \u001b[32m━━━━━━━━━━━━━━━━━━━━\u001b[0m\u001b[37m\u001b[0m \u001b[1m7s\u001b[0m 52ms/step - accuracy: 0.3759 - loss: 1.8224 - val_accuracy: 0.4276 - val_loss: 1.6908\n",
      "Epoch 6/40\n",
      "\u001b[1m140/140\u001b[0m \u001b[32m━━━━━━━━━━━━━━━━━━━━\u001b[0m\u001b[37m\u001b[0m \u001b[1m7s\u001b[0m 52ms/step - accuracy: 0.4417 - loss: 1.6162 - val_accuracy: 0.4894 - val_loss: 1.5244\n",
      "Epoch 7/40\n",
      "\u001b[1m140/140\u001b[0m \u001b[32m━━━━━━━━━━━━━━━━━━━━\u001b[0m\u001b[37m\u001b[0m \u001b[1m7s\u001b[0m 53ms/step - accuracy: 0.5067 - loss: 1.4698 - val_accuracy: 0.5283 - val_loss: 1.4101\n",
      "Epoch 8/40\n",
      "\u001b[1m140/140\u001b[0m \u001b[32m━━━━━━━━━━━━━━━━━━━━\u001b[0m\u001b[37m\u001b[0m \u001b[1m7s\u001b[0m 51ms/step - accuracy: 0.5616 - loss: 1.3296 - val_accuracy: 0.5524 - val_loss: 1.3428\n",
      "Epoch 9/40\n",
      "\u001b[1m140/140\u001b[0m \u001b[32m━━━━━━━━━━━━━━━━━━━━\u001b[0m\u001b[37m\u001b[0m \u001b[1m7s\u001b[0m 52ms/step - accuracy: 0.5945 - loss: 1.2056 - val_accuracy: 0.5861 - val_loss: 1.2350\n",
      "Epoch 10/40\n",
      "\u001b[1m140/140\u001b[0m \u001b[32m━━━━━━━━━━━━━━━━━━━━\u001b[0m\u001b[37m\u001b[0m \u001b[1m8s\u001b[0m 58ms/step - accuracy: 0.6257 - loss: 1.1346 - val_accuracy: 0.6010 - val_loss: 1.2083\n",
      "Epoch 11/40\n",
      "\u001b[1m140/140\u001b[0m \u001b[32m━━━━━━━━━━━━━━━━━━━━\u001b[0m\u001b[37m\u001b[0m \u001b[1m7s\u001b[0m 52ms/step - accuracy: 0.6488 - loss: 1.0329 - val_accuracy: 0.6297 - val_loss: 1.1309\n",
      "Epoch 12/40\n",
      "\u001b[1m140/140\u001b[0m \u001b[32m━━━━━━━━━━━━━━━━━━━━\u001b[0m\u001b[37m\u001b[0m \u001b[1m7s\u001b[0m 52ms/step - accuracy: 0.6786 - loss: 0.9579 - val_accuracy: 0.6308 - val_loss: 1.1266\n",
      "Epoch 13/40\n",
      "\u001b[1m140/140\u001b[0m \u001b[32m━━━━━━━━━━━━━━━━━━━━\u001b[0m\u001b[37m\u001b[0m \u001b[1m7s\u001b[0m 50ms/step - accuracy: 0.6981 - loss: 0.9016 - val_accuracy: 0.6445 - val_loss: 1.0957\n",
      "Epoch 14/40\n",
      "\u001b[1m140/140\u001b[0m \u001b[32m━━━━━━━━━━━━━━━━━━━━\u001b[0m\u001b[37m\u001b[0m \u001b[1m7s\u001b[0m 50ms/step - accuracy: 0.7196 - loss: 0.8140 - val_accuracy: 0.6646 - val_loss: 1.0700\n",
      "Epoch 15/40\n",
      "\u001b[1m140/140\u001b[0m \u001b[32m━━━━━━━━━━━━━━━━━━━━\u001b[0m\u001b[37m\u001b[0m \u001b[1m7s\u001b[0m 51ms/step - accuracy: 0.7544 - loss: 0.7494 - val_accuracy: 0.6749 - val_loss: 1.0598\n",
      "Epoch 16/40\n",
      "\u001b[1m140/140\u001b[0m \u001b[32m━━━━━━━━━━━━━━━━━━━━\u001b[0m\u001b[37m\u001b[0m \u001b[1m7s\u001b[0m 50ms/step - accuracy: 0.7586 - loss: 0.7272 - val_accuracy: 0.6943 - val_loss: 1.0244\n",
      "Epoch 17/40\n",
      "\u001b[1m140/140\u001b[0m \u001b[32m━━━━━━━━━━━━━━━━━━━━\u001b[0m\u001b[37m\u001b[0m \u001b[1m7s\u001b[0m 51ms/step - accuracy: 0.7716 - loss: 0.6735 - val_accuracy: 0.7001 - val_loss: 0.9745\n",
      "Epoch 18/40\n",
      "\u001b[1m140/140\u001b[0m \u001b[32m━━━━━━━━━━━━━━━━━━━━\u001b[0m\u001b[37m\u001b[0m \u001b[1m7s\u001b[0m 50ms/step - accuracy: 0.7947 - loss: 0.6206 - val_accuracy: 0.7075 - val_loss: 0.9760\n",
      "Epoch 19/40\n",
      "\u001b[1m140/140\u001b[0m \u001b[32m━━━━━━━━━━━━━━━━━━━━\u001b[0m\u001b[37m\u001b[0m \u001b[1m7s\u001b[0m 51ms/step - accuracy: 0.7943 - loss: 0.6040 - val_accuracy: 0.6983 - val_loss: 0.9956\n",
      "Epoch 20/40\n",
      "\u001b[1m140/140\u001b[0m \u001b[32m━━━━━━━━━━━━━━━━━━━━\u001b[0m\u001b[37m\u001b[0m \u001b[1m7s\u001b[0m 50ms/step - accuracy: 0.8183 - loss: 0.5476 - val_accuracy: 0.7167 - val_loss: 0.9662\n",
      "Epoch 21/40\n",
      "\u001b[1m140/140\u001b[0m \u001b[32m━━━━━━━━━━━━━━━━━━━━\u001b[0m\u001b[37m\u001b[0m \u001b[1m7s\u001b[0m 51ms/step - accuracy: 0.8326 - loss: 0.5240 - val_accuracy: 0.7018 - val_loss: 0.9868\n",
      "Epoch 22/40\n",
      "\u001b[1m140/140\u001b[0m \u001b[32m━━━━━━━━━━━━━━━━━━━━\u001b[0m\u001b[37m\u001b[0m \u001b[1m7s\u001b[0m 51ms/step - accuracy: 0.8351 - loss: 0.5043 - val_accuracy: 0.7121 - val_loss: 0.9789\n",
      "Epoch 23/40\n",
      "\u001b[1m140/140\u001b[0m \u001b[32m━━━━━━━━━━━━━━━━━━━━\u001b[0m\u001b[37m\u001b[0m \u001b[1m7s\u001b[0m 50ms/step - accuracy: 0.8418 - loss: 0.4752 - val_accuracy: 0.7252 - val_loss: 1.0038\n",
      "Epoch 24/40\n",
      "\u001b[1m140/140\u001b[0m \u001b[32m━━━━━━━━━━━━━━━━━━━━\u001b[0m\u001b[37m\u001b[0m \u001b[1m7s\u001b[0m 50ms/step - accuracy: 0.8486 - loss: 0.4400 - val_accuracy: 0.7310 - val_loss: 0.9541\n",
      "Epoch 25/40\n",
      "\u001b[1m140/140\u001b[0m \u001b[32m━━━━━━━━━━━━━━━━━━━━\u001b[0m\u001b[37m\u001b[0m \u001b[1m7s\u001b[0m 50ms/step - accuracy: 0.8494 - loss: 0.4402 - val_accuracy: 0.7270 - val_loss: 0.9701\n",
      "Epoch 26/40\n",
      "\u001b[1m140/140\u001b[0m \u001b[32m━━━━━━━━━━━━━━━━━━━━\u001b[0m\u001b[37m\u001b[0m \u001b[1m7s\u001b[0m 50ms/step - accuracy: 0.8544 - loss: 0.4386 - val_accuracy: 0.7436 - val_loss: 0.9343\n",
      "Epoch 27/40\n",
      "\u001b[1m140/140\u001b[0m \u001b[32m━━━━━━━━━━━━━━━━━━━━\u001b[0m\u001b[37m\u001b[0m \u001b[1m7s\u001b[0m 51ms/step - accuracy: 0.8714 - loss: 0.3896 - val_accuracy: 0.7315 - val_loss: 0.9873\n",
      "Epoch 28/40\n",
      "\u001b[1m140/140\u001b[0m \u001b[32m━━━━━━━━━━━━━━━━━━━━\u001b[0m\u001b[37m\u001b[0m \u001b[1m7s\u001b[0m 52ms/step - accuracy: 0.8696 - loss: 0.3859 - val_accuracy: 0.7373 - val_loss: 0.9314\n",
      "Epoch 29/40\n",
      "\u001b[1m140/140\u001b[0m \u001b[32m━━━━━━━━━━━━━━━━━━━━\u001b[0m\u001b[37m\u001b[0m \u001b[1m7s\u001b[0m 50ms/step - accuracy: 0.8767 - loss: 0.3518 - val_accuracy: 0.7252 - val_loss: 0.9745\n",
      "Epoch 30/40\n",
      "\u001b[1m140/140\u001b[0m \u001b[32m━━━━━━━━━━━━━━━━━━━━\u001b[0m\u001b[37m\u001b[0m \u001b[1m7s\u001b[0m 50ms/step - accuracy: 0.8889 - loss: 0.3458 - val_accuracy: 0.7436 - val_loss: 0.9566\n",
      "Epoch 31/40\n",
      "\u001b[1m140/140\u001b[0m \u001b[32m━━━━━━━━━━━━━━━━━━━━\u001b[0m\u001b[37m\u001b[0m \u001b[1m7s\u001b[0m 50ms/step - accuracy: 0.8860 - loss: 0.3435 - val_accuracy: 0.7453 - val_loss: 0.9608\n",
      "Epoch 32/40\n",
      "\u001b[1m140/140\u001b[0m \u001b[32m━━━━━━━━━━━━━━━━━━━━\u001b[0m\u001b[37m\u001b[0m \u001b[1m7s\u001b[0m 50ms/step - accuracy: 0.8974 - loss: 0.3175 - val_accuracy: 0.7413 - val_loss: 0.9272\n",
      "Epoch 33/40\n",
      "\u001b[1m140/140\u001b[0m \u001b[32m━━━━━━━━━━━━━━━━━━━━\u001b[0m\u001b[37m\u001b[0m \u001b[1m7s\u001b[0m 52ms/step - accuracy: 0.8954 - loss: 0.3156 - val_accuracy: 0.7424 - val_loss: 0.9759\n",
      "Epoch 34/40\n",
      "\u001b[1m140/140\u001b[0m \u001b[32m━━━━━━━━━━━━━━━━━━━━\u001b[0m\u001b[37m\u001b[0m \u001b[1m7s\u001b[0m 51ms/step - accuracy: 0.8961 - loss: 0.3027 - val_accuracy: 0.7544 - val_loss: 0.9712\n",
      "Epoch 35/40\n",
      "\u001b[1m140/140\u001b[0m \u001b[32m━━━━━━━━━━━━━━━━━━━━\u001b[0m\u001b[37m\u001b[0m \u001b[1m7s\u001b[0m 50ms/step - accuracy: 0.8993 - loss: 0.3055 - val_accuracy: 0.7413 - val_loss: 0.9766\n",
      "Epoch 36/40\n",
      "\u001b[1m140/140\u001b[0m \u001b[32m━━━━━━━━━━━━━━━━━━━━\u001b[0m\u001b[37m\u001b[0m \u001b[1m7s\u001b[0m 50ms/step - accuracy: 0.9065 - loss: 0.2873 - val_accuracy: 0.7527 - val_loss: 0.9790\n",
      "Epoch 37/40\n",
      "\u001b[1m140/140\u001b[0m \u001b[32m━━━━━━━━━━━━━━━━━━━━\u001b[0m\u001b[37m\u001b[0m \u001b[1m7s\u001b[0m 51ms/step - accuracy: 0.8999 - loss: 0.2901 - val_accuracy: 0.7464 - val_loss: 0.9932\n",
      "Epoch 38/40\n",
      "\u001b[1m140/140\u001b[0m \u001b[32m━━━━━━━━━━━━━━━━━━━━\u001b[0m\u001b[37m\u001b[0m \u001b[1m7s\u001b[0m 50ms/step - accuracy: 0.9129 - loss: 0.2607 - val_accuracy: 0.7487 - val_loss: 1.0082\n",
      "Epoch 39/40\n",
      "\u001b[1m140/140\u001b[0m \u001b[32m━━━━━━━━━━━━━━━━━━━━\u001b[0m\u001b[37m\u001b[0m \u001b[1m7s\u001b[0m 51ms/step - accuracy: 0.9040 - loss: 0.2791 - val_accuracy: 0.7470 - val_loss: 0.9994\n",
      "Epoch 40/40\n",
      "\u001b[1m140/140\u001b[0m \u001b[32m━━━━━━━━━━━━━━━━━━━━\u001b[0m\u001b[37m\u001b[0m \u001b[1m7s\u001b[0m 50ms/step - accuracy: 0.9195 - loss: 0.2399 - val_accuracy: 0.7567 - val_loss: 0.9989\n"
     ]
    }
   ],
   "source": [
    "# Fit the model\n",
    "history = model.fit(X_train_scaled, Y_train, validation_data=(X_test_scaled, Y_test), batch_size=50, epochs=40)"
   ]
  },
  {
   "cell_type": "code",
   "execution_count": 39,
   "metadata": {},
   "outputs": [
    {
     "data": {
      "image/png": "[encoded data removed]",
      "text/plain": [
       "<Figure size 1000x500 with 1 Axes>"
      ]
     },
     "metadata": {},
     "output_type": "display_data"
    }
   ],
   "source": [
    "train_acc = history.history['accuracy']\n",
    "val_acc = history.history['val_accuracy']\n",
    "\n",
    "# Extracting epochs\n",
    "epochs = range(1, len(train_acc) + 1)\n",
    "\n",
    "# Plotting the accuracy\n",
    "plt.figure(figsize=(10, 5))\n",
    "plt.plot(epochs, train_acc, 'bo-', label='Training Accuracy')\n",
    "plt.plot(epochs, val_acc, 'ro-', label='Validation Accuracy')\n",
    "\n",
    "# Adding titles and labels\n",
    "plt.title('Training and Validation Accuracy')\n",
    "plt.xlabel('Epochs')\n",
    "plt.ylabel('Accuracy')\n",
    "plt.xticks(epochs)  # Set x-ticks to the number of epochs\n",
    "plt.legend()\n",
    "plt.grid()\n",
    "\n",
    "# Display the plot\n",
    "plt.show()"
   ]
  },
  {
   "cell_type": "code",
   "execution_count": 40,
   "metadata": {},
   "outputs": [
    {
     "name": "stderr",
     "output_type": "stream",
     "text": [
      "WARNING:absl:You are saving your model as an HDF5 file via `model.save()` or `keras.saving.save_model(model)`. This file format is considered legacy. We recommend using instead the native Keras format, e.g. `model.save('my_model.keras')` or `keras.saving.save_model(model, 'my_model.keras')`. \n"
     ]
    }
   ],
   "source": [
    "model.save('trained_cnn_model.h5')"
   ]
  }
 ],
 "metadata": {
  "kernelspec": {
   "display_name": "myenv",
   "language": "python",
   "name": "python3"
  },
  "language_info": {
   "codemirror_mode": {
    "name": "ipython",
    "version": 3
   },
   "file_extension": ".py",
   "mimetype": "text/x-python",
   "name": "python",
   "nbconvert_exporter": "python",
   "pygments_lexer": "ipython3",
   "version": "3.10.12"
  }
 },
 "nbformat": 4,
 "nbformat_minor": 2
}
