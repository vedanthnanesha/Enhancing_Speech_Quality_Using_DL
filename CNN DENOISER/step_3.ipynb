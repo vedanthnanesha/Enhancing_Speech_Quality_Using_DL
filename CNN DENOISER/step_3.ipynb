{
 "cells": [
  {
   "cell_type": "code",
   "execution_count": 9,
   "metadata": {},
   "outputs": [],
   "source": [
    "import librosa\n",
    "import numpy as np\n",
    "import tensorflow as tf\n",
    "import os\n",
    "import pandas as pd\n",
    "from sklearn.preprocessing import StandardScaler\n",
    "from tensorflow.keras.models import load_model\n",
    "from sklearn.preprocessing import MinMaxScaler"
   ]
  },
  {
   "cell_type": "code",
   "execution_count": 4,
   "metadata": {},
   "outputs": [],
   "source": [
    "def load_audio(audio_file_path):\n",
    "    audio, sr = librosa.load(audio_file_path, sr=44100)\n",
    "    return audio, sr\n",
    "\n",
    "def load_model(model_path):\n",
    "    model = tf.keras.models.load_model(model_path)\n",
    "    return model"
   ]
  },
  {
   "cell_type": "code",
   "execution_count": 12,
   "metadata": {},
   "outputs": [],
   "source": [
    "def extract_features(audio, sr):\n",
    "    \"\"\"\n",
    "    Extracts multiple audio features (MFCC, Chroma STFT, Chroma CQT, Chroma CENS) from the audio signal.\n",
    "    Returns a 3D vector (time, frequency, feature).\n",
    "    \"\"\"\n",
    "    # Feature 1: MFCC\n",
    "    mfcc = librosa.feature.mfcc(y=audio, sr=sr, n_mfcc=13)\n",
    "    mfcc_mean = np.mean(mfcc, axis=1)\n",
    "\n",
    "    # Feature 2: Chroma STFT\n",
    "    chroma_stft = librosa.feature.chroma_stft(y=audio, sr=sr)\n",
    "    chroma_stft_mean = np.mean(chroma_stft, axis=1)\n",
    "\n",
    "    # Feature 3: Chroma CQT with reduced bins\n",
    "    chroma_cqt = librosa.feature.chroma_cqt(y=audio, sr=sr, bins_per_octave=24, n_octaves=7)\n",
    "    chroma_cqt_mean = np.mean(chroma_cqt, axis=1)\n",
    "\n",
    "    # Feature 4: Chroma CENS\n",
    "    chroma_cens = librosa.feature.chroma_cens(y=audio, sr=sr)\n",
    "    chroma_cens_mean = np.mean(chroma_cens, axis=1)\n",
    "\n",
    "    # Combine all features into a single vector\n",
    "    return np.hstack([mfcc_mean, chroma_stft_mean, chroma_cqt_mean, chroma_cens_mean])\n"
   ]
  },
  {
   "cell_type": "code",
   "execution_count": 28,
   "metadata": {},
   "outputs": [
    {
     "name": "stderr",
     "output_type": "stream",
     "text": [
      "/home/aditya/ADITYA/Projects/Denoise/myenv/lib/python3.10/site-packages/librosa/core/spectrum.py:266: UserWarning: n_fft=1024 is too large for input signal of length=776\n",
      "  warnings.warn(\n"
     ]
    }
   ],
   "source": [
    "audio_file_path = \"7061-6-0-0.wav\"\n",
    "audio,sr=load_audio(audio_file_path)\n",
    "features = extract_features(audio,sr)\n"
   ]
  },
  {
   "cell_type": "code",
   "execution_count": null,
   "metadata": {},
   "outputs": [
    {
     "name": "stdout",
     "output_type": "stream",
     "text": [
      "[0.         1.         0.5628778  0.8164663  0.70170605 0.8815811\n",
      " 0.7686461  0.84498256 0.7965568  0.8806914  0.8470614  0.8955136\n",
      " 0.8857837  0.81819165 0.8184743  0.81763494 0.8177113  0.8182802\n",
      " 0.81908554 0.81912124 0.8184706  0.817888   0.81751215 0.8173311\n",
      " 0.8174683  0.8183508  0.81874883 0.81889325 0.8188635  0.8188479\n",
      " 0.8188083  0.8188492  0.81890476 0.8191638  0.81810915 0.8178538\n",
      " 0.8178167  0.8168783  0.81690925 0.81710756 0.8169514  0.81696516\n",
      " 0.8170699  0.81694156 0.8172797  0.8169106  0.8167266  0.81659716\n",
      " 0.8167198 ]\n"
     ]
    }
   ],
   "source": [
    "def scale(features):\n",
    "    scaled_features = []\n",
    "    minimum = np.min(features) \n",
    "    maximum = np.max(features) \n",
    "\n",
    "    for value in features:\n",
    "        scaled_value = (value - minimum) / (maximum - minimum)  \n",
    "        scaled_features.append(scaled_value)  \n",
    "    scaled_features = np.array(scaled_features)\n",
    "\n",
    "    return scaled_features\n",
    "\n",
    "scaled_features = scale(features)"
   ]
  }
 ],
 "metadata": {
  "kernelspec": {
   "display_name": "myenv",
   "language": "python",
   "name": "python3"
  },
  "language_info": {
   "codemirror_mode": {
    "name": "ipython",
    "version": 3
   },
   "file_extension": ".py",
   "mimetype": "text/x-python",
   "name": "python",
   "nbconvert_exporter": "python",
   "pygments_lexer": "ipython3",
   "version": "3.10.12"
  }
 },
 "nbformat": 4,
 "nbformat_minor": 2
}
