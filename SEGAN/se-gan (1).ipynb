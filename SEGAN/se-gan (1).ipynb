{
 "cells": [
  {
   "cell_type": "code",
   "execution_count": 1,
   "id": "e9483a26",
   "metadata": {
    "_cell_guid": "b1076dfc-b9ad-4769-8c92-a6c4dae69d19",
    "_uuid": "8f2839f25d086af736a60e9eeb907d3b93b6e0e5",
    "execution": {
     "iopub.execute_input": "2024-11-26T13:59:26.321980Z",
     "iopub.status.busy": "2024-11-26T13:59:26.321241Z",
     "iopub.status.idle": "2024-11-26T13:59:29.267287Z",
     "shell.execute_reply": "2024-11-26T13:59:29.266395Z"
    },
    "papermill": {
     "duration": 2.953406,
     "end_time": "2024-11-26T13:59:29.269362",
     "exception": false,
     "start_time": "2024-11-26T13:59:26.315956",
     "status": "completed"
    },
    "tags": []
   },
   "outputs": [],
   "source": [
    "import os\n",
    "import torch\n",
    "from torch.utils.data import Dataset, DataLoader, random_split\n",
    "import torch.nn as nn\n",
    "import torch.optim as optim\n",
    "import librosa\n",
    "import numpy as np\n",
    "import matplotlib.pyplot as plt"
   ]
  },
  {
   "cell_type": "code",
   "execution_count": 2,
   "id": "b99688cf",
   "metadata": {
    "execution": {
     "iopub.execute_input": "2024-11-26T13:59:29.277734Z",
     "iopub.status.busy": "2024-11-26T13:59:29.277333Z",
     "iopub.status.idle": "2024-11-26T13:59:38.670458Z",
     "shell.execute_reply": "2024-11-26T13:59:38.669278Z"
    },
    "papermill": {
     "duration": 9.399204,
     "end_time": "2024-11-26T13:59:38.672310",
     "exception": false,
     "start_time": "2024-11-26T13:59:29.273106",
     "status": "completed"
    },
    "tags": []
   },
   "outputs": [
    {
     "name": "stdout",
     "output_type": "stream",
     "text": [
      "Collecting pystoi\r\n",
      "  Downloading pystoi-0.4.1-py2.py3-none-any.whl.metadata (4.0 kB)\r\n",
      "Requirement already satisfied: numpy in /opt/conda/lib/python3.10/site-packages (from pystoi) (1.26.4)\r\n",
      "Requirement already satisfied: scipy in /opt/conda/lib/python3.10/site-packages (from pystoi) (1.14.1)\r\n",
      "Downloading pystoi-0.4.1-py2.py3-none-any.whl (8.2 kB)\r\n",
      "Installing collected packages: pystoi\r\n",
      "Successfully installed pystoi-0.4.1\r\n",
      "Note: you may need to restart the kernel to use updated packages.\n"
     ]
    }
   ],
   "source": [
    "pip install pystoi"
   ]
  },
  {
   "cell_type": "code",
   "execution_count": 3,
   "id": "6156e7bc",
   "metadata": {
    "execution": {
     "iopub.execute_input": "2024-11-26T13:59:38.681155Z",
     "iopub.status.busy": "2024-11-26T13:59:38.680848Z",
     "iopub.status.idle": "2024-11-26T13:59:54.514395Z",
     "shell.execute_reply": "2024-11-26T13:59:54.513298Z"
    },
    "papermill": {
     "duration": 15.840099,
     "end_time": "2024-11-26T13:59:54.516243",
     "exception": false,
     "start_time": "2024-11-26T13:59:38.676144",
     "status": "completed"
    },
    "tags": []
   },
   "outputs": [
    {
     "name": "stdout",
     "output_type": "stream",
     "text": [
      "Collecting pesq\r\n",
      "  Downloading pesq-0.0.4.tar.gz (38 kB)\r\n",
      "  Preparing metadata (setup.py) ... \u001b[?25l-\b \b\\\b \bdone\r\n",
      "\u001b[?25hBuilding wheels for collected packages: pesq\r\n",
      "  Building wheel for pesq (setup.py) ... \u001b[?25l-\b \b\\\b \b|\b \b/\b \b-\b \b\\\b \b|\b \bdone\r\n",
      "\u001b[?25h  Created wheel for pesq: filename=pesq-0.0.4-cp310-cp310-linux_x86_64.whl size=114934 sha256=97275f083a1acc10d303edddf713c8610e97c297a1f3f64ba72e6997b751dd11\r\n",
      "  Stored in directory: /root/.cache/pip/wheels/c5/4e/2c/251524370c0fdd659e99639a0fbd0ca5a782c3aafcd456b28d\r\n",
      "Successfully built pesq\r\n",
      "Installing collected packages: pesq\r\n",
      "Successfully installed pesq-0.0.4\r\n",
      "Note: you may need to restart the kernel to use updated packages.\n"
     ]
    }
   ],
   "source": [
    "pip install pesq"
   ]
  },
  {
   "cell_type": "code",
   "execution_count": 4,
   "id": "ab2c04ed",
   "metadata": {
    "execution": {
     "iopub.execute_input": "2024-11-26T13:59:54.527330Z",
     "iopub.status.busy": "2024-11-26T13:59:54.527014Z",
     "iopub.status.idle": "2024-11-26T13:59:54.537354Z",
     "shell.execute_reply": "2024-11-26T13:59:54.536702Z"
    },
    "papermill": {
     "duration": 0.018555,
     "end_time": "2024-11-26T13:59:54.539215",
     "exception": false,
     "start_time": "2024-11-26T13:59:54.520660",
     "status": "completed"
    },
    "tags": []
   },
   "outputs": [],
   "source": [
    "class SpeechDataset(Dataset):\n",
    "    def __init__(self, clean_dir, noisy_dir, sample_rate=16000, segment_length=16000):\n",
    "        super(SpeechDataset, self).__init__()\n",
    "        self.clean_dir = clean_dir\n",
    "        self.noisy_dir = noisy_dir\n",
    "        self.sample_rate = sample_rate\n",
    "        self.segment_length = segment_length\n",
    "\n",
    "        self.clean_files = sorted([\n",
    "            f for f in os.listdir(clean_dir)\n",
    "            if os.path.isfile(os.path.join(clean_dir, f))\n",
    "        ])\n",
    "        self.noisy_files = sorted([\n",
    "            f for f in os.listdir(noisy_dir)\n",
    "            if os.path.isfile(os.path.join(noisy_dir, f))\n",
    "        ])\n",
    "\n",
    "        assert len(self.clean_files) == len(self.noisy_files), \\\n",
    "            f\"Number of clean files ({len(self.clean_files)}) does not match number of noisy files ({len(self.noisy_files)}).\"\n",
    "\n",
    "        for clean_file, noisy_file in zip(self.clean_files, self.noisy_files):\n",
    "            assert clean_file == noisy_file, \\\n",
    "                f\"Filename mismatch: {clean_file} and {noisy_file}\"\n",
    "\n",
    "    def __len__(self):\n",
    "        return len(self.clean_files)\n",
    "\n",
    "    def __getitem__(self, idx):\n",
    "        filename = self.clean_files[idx]\n",
    "        clean_path = os.path.join(self.clean_dir, filename)\n",
    "        noisy_path = os.path.join(self.noisy_dir, filename)\n",
    "\n",
    "        clean, _ = librosa.load(clean_path, sr=self.sample_rate)\n",
    "        noisy, _ = librosa.load(noisy_path, sr=self.sample_rate)\n",
    "\n",
    "        min_len = min(len(clean), len(noisy))\n",
    "        clean = clean[:min_len]\n",
    "        noisy = noisy[:min_len]\n",
    "\n",
    "        if len(clean) < self.segment_length:\n",
    "            pad_width = self.segment_length - len(clean)\n",
    "            clean = np.pad(clean, (0, pad_width), 'constant')\n",
    "            noisy = np.pad(noisy, (0, pad_width), 'constant')\n",
    "        else:\n",
    "            start = np.random.randint(0, len(clean) - self.segment_length + 1)\n",
    "            clean = clean[start:start + self.segment_length]\n",
    "            noisy = noisy[start:start + self.segment_length]\n",
    "\n",
    "        clean = torch.from_numpy(clean).float().unsqueeze(0)\n",
    "        noisy = torch.from_numpy(noisy).float().unsqueeze(0)\n",
    "\n",
    "        return noisy, clean\n"
   ]
  },
  {
   "cell_type": "code",
   "execution_count": 5,
   "id": "2515c304",
   "metadata": {
    "execution": {
     "iopub.execute_input": "2024-11-26T13:59:54.549021Z",
     "iopub.status.busy": "2024-11-26T13:59:54.548313Z",
     "iopub.status.idle": "2024-11-26T13:59:54.552174Z",
     "shell.execute_reply": "2024-11-26T13:59:54.551428Z"
    },
    "papermill": {
     "duration": 0.010409,
     "end_time": "2024-11-26T13:59:54.553814",
     "exception": false,
     "start_time": "2024-11-26T13:59:54.543405",
     "status": "completed"
    },
    "tags": []
   },
   "outputs": [],
   "source": [
    "clean_train_dir = '/kaggle/input/voicebank-demand-16k/clean_trainset_28spk_wav'\n",
    "noisy_train_dir = '/kaggle/input/voicebank-demand-16k/noisy_trainset_28spk_wav'\n",
    "clean_test_dir = '/kaggle/input/voicebank-demand-16k/clean_testset_wav'\n",
    "noisy_test_dir = '/kaggle/input/voicebank-demand-16k/noisy_testset_wav'"
   ]
  },
  {
   "cell_type": "code",
   "execution_count": 6,
   "id": "df4cffb7",
   "metadata": {
    "execution": {
     "iopub.execute_input": "2024-11-26T13:59:54.562951Z",
     "iopub.status.busy": "2024-11-26T13:59:54.562702Z",
     "iopub.status.idle": "2024-11-26T14:00:41.037004Z",
     "shell.execute_reply": "2024-11-26T14:00:41.036238Z"
    },
    "papermill": {
     "duration": 46.481115,
     "end_time": "2024-11-26T14:00:41.039059",
     "exception": false,
     "start_time": "2024-11-26T13:59:54.557944",
     "status": "completed"
    },
    "tags": []
   },
   "outputs": [],
   "source": [
    "train_dataset = SpeechDataset(clean_dir=clean_train_dir, noisy_dir=noisy_train_dir)\n",
    "test_dataset = SpeechDataset(clean_dir=clean_test_dir, noisy_dir=noisy_test_dir)"
   ]
  },
  {
   "cell_type": "code",
   "execution_count": 7,
   "id": "0b6cc657",
   "metadata": {
    "execution": {
     "iopub.execute_input": "2024-11-26T14:00:41.049267Z",
     "iopub.status.busy": "2024-11-26T14:00:41.048748Z",
     "iopub.status.idle": "2024-11-26T14:00:41.075005Z",
     "shell.execute_reply": "2024-11-26T14:00:41.074405Z"
    },
    "papermill": {
     "duration": 0.033274,
     "end_time": "2024-11-26T14:00:41.076813",
     "exception": false,
     "start_time": "2024-11-26T14:00:41.043539",
     "status": "completed"
    },
    "tags": []
   },
   "outputs": [],
   "source": [
    "batch_size = 16\n",
    "val_size = int(0.5 * len(test_dataset)) \n",
    "test_size = len(test_dataset) - val_size\n",
    "val_dataset, test_dataset = random_split(test_dataset, [val_size, test_size])\n",
    "\n",
    "val_loader = DataLoader(val_dataset, batch_size=batch_size, shuffle=False)\n",
    "test_loader = DataLoader(test_dataset, batch_size=batch_size, shuffle=False)\n",
    "train_loader = DataLoader(\n",
    "    train_dataset,\n",
    "    batch_size=batch_size,\n",
    "    shuffle=True,\n",
    ")\n"
   ]
  },
  {
   "cell_type": "code",
   "execution_count": 8,
   "id": "9b40b4c8",
   "metadata": {
    "execution": {
     "iopub.execute_input": "2024-11-26T14:00:41.086446Z",
     "iopub.status.busy": "2024-11-26T14:00:41.086148Z",
     "iopub.status.idle": "2024-11-26T14:00:41.098412Z",
     "shell.execute_reply": "2024-11-26T14:00:41.097736Z"
    },
    "papermill": {
     "duration": 0.019195,
     "end_time": "2024-11-26T14:00:41.100292",
     "exception": false,
     "start_time": "2024-11-26T14:00:41.081097",
     "status": "completed"
    },
    "tags": []
   },
   "outputs": [],
   "source": [
    "class Generator(nn.Module):\n",
    "    def __init__(self, noise_channels=1, output_channels=1, feature_maps=64):\n",
    "        super(Generator, self).__init__()\n",
    "        self.encoder1 = nn.Sequential(\n",
    "            nn.Conv1d(noise_channels, feature_maps, kernel_size=15, stride=1, padding=7),\n",
    "            nn.BatchNorm1d(feature_maps),\n",
    "            nn.LeakyReLU(0.2, inplace=True)\n",
    "        )\n",
    "        self.encoder2 = nn.Sequential(\n",
    "            nn.Conv1d(feature_maps, feature_maps*2, kernel_size=15, stride=2, padding=7),\n",
    "            nn.BatchNorm1d(feature_maps*2),\n",
    "            nn.LeakyReLU(0.2, inplace=True)\n",
    "        )\n",
    "        self.encoder3 = nn.Sequential(\n",
    "            nn.Conv1d(feature_maps*2, feature_maps*4, kernel_size=15, stride=2, padding=7),\n",
    "            nn.BatchNorm1d(feature_maps*4),\n",
    "            nn.LeakyReLU(0.2, inplace=True)\n",
    "        )\n",
    "        self.encoder4 = nn.Sequential(\n",
    "            nn.Conv1d(feature_maps*4, feature_maps*8, kernel_size=15, stride=2, padding=7),\n",
    "            nn.BatchNorm1d(feature_maps*8),\n",
    "            nn.LeakyReLU(0.2, inplace=True)\n",
    "        )\n",
    "\n",
    "        self.decoder1 = nn.Sequential(\n",
    "            nn.ConvTranspose1d(feature_maps*8, feature_maps*4, kernel_size=15, stride=2, padding=7, output_padding=1),\n",
    "            nn.BatchNorm1d(feature_maps*4),\n",
    "            nn.ReLU(inplace=True)\n",
    "        )\n",
    "        self.decoder2 = nn.Sequential(\n",
    "            nn.ConvTranspose1d(feature_maps*8, feature_maps*2, kernel_size=15, stride=2, padding=7, output_padding=1),\n",
    "            nn.BatchNorm1d(feature_maps*2),\n",
    "            nn.ReLU(inplace=True)\n",
    "        )\n",
    "        self.decoder3 = nn.Sequential(\n",
    "            nn.ConvTranspose1d(feature_maps*4, feature_maps, kernel_size=15, stride=2, padding=7, output_padding=1),\n",
    "            nn.BatchNorm1d(feature_maps),\n",
    "            nn.ReLU(inplace=True)\n",
    "        )\n",
    "        self.decoder4 = nn.Sequential(\n",
    "            nn.Conv1d(feature_maps*2, output_channels, kernel_size=15, stride=1, padding=7),\n",
    "            nn.Tanh()\n",
    "        )\n",
    "\n",
    "        # Initialize weights\n",
    "        self.apply(self.weights_init)\n",
    "\n",
    "    def forward(self, x):\n",
    "        enc1 = self.encoder1(x)  \n",
    "        enc2 = self.encoder2(enc1)  \n",
    "        enc3 = self.encoder3(enc2)  \n",
    "        enc4 = self.encoder4(enc3)  \n",
    "\n",
    "        dec1 = self.decoder1(enc4)  \n",
    "        dec1 = torch.cat((dec1, enc3), dim=1)  \n",
    "\n",
    "        dec2 = self.decoder2(dec1)  \n",
    "        dec2 = torch.cat((dec2, enc2), dim=1)  \n",
    "\n",
    "        dec3 = self.decoder3(dec2)  \n",
    "        dec3 = torch.cat((dec3, enc1), dim=1)  \n",
    "\n",
    "        dec4 = self.decoder4(dec3) \n",
    "\n",
    "        return dec4\n",
    "\n",
    "    def weights_init(self, m):\n",
    "        if isinstance(m, nn.Conv1d) or isinstance(m, nn.ConvTranspose1d):\n",
    "            nn.init.normal_(m.weight.data, 0.0, 0.02)\n",
    "        elif isinstance(m, nn.BatchNorm1d):\n",
    "            nn.init.normal_(m.weight.data, 1.0, 0.02)\n",
    "            nn.init.constant_(m.bias.data, 0)\n"
   ]
  },
  {
   "cell_type": "code",
   "execution_count": 9,
   "id": "7edd4248",
   "metadata": {
    "execution": {
     "iopub.execute_input": "2024-11-26T14:00:41.109941Z",
     "iopub.status.busy": "2024-11-26T14:00:41.109702Z",
     "iopub.status.idle": "2024-11-26T14:00:41.117540Z",
     "shell.execute_reply": "2024-11-26T14:00:41.116875Z"
    },
    "papermill": {
     "duration": 0.014309,
     "end_time": "2024-11-26T14:00:41.119030",
     "exception": false,
     "start_time": "2024-11-26T14:00:41.104721",
     "status": "completed"
    },
    "tags": []
   },
   "outputs": [],
   "source": [
    "class Discriminator(nn.Module):\n",
    "    def __init__(self, input_channels=1, feature_maps=64):\n",
    "        super(Discriminator, self).__init__()\n",
    "        self.model = nn.Sequential(\n",
    "            nn.Conv1d(input_channels, feature_maps, kernel_size=15, stride=1, padding=7),\n",
    "            nn.LeakyReLU(0.2, inplace=True),\n",
    "\n",
    "            nn.Conv1d(feature_maps, feature_maps*2, kernel_size=15, stride=2, padding=7),\n",
    "            nn.BatchNorm1d(feature_maps*2),\n",
    "            nn.LeakyReLU(0.2, inplace=True),\n",
    "\n",
    "            nn.Conv1d(feature_maps*2, feature_maps*4, kernel_size=15, stride=2, padding=7),\n",
    "            nn.BatchNorm1d(feature_maps*4),\n",
    "            nn.LeakyReLU(0.2, inplace=True),\n",
    "\n",
    "            nn.Conv1d(feature_maps*4, feature_maps*8, kernel_size=15, stride=2, padding=7),\n",
    "            nn.BatchNorm1d(feature_maps*8),\n",
    "            nn.LeakyReLU(0.2, inplace=True),\n",
    "\n",
    "            nn.Conv1d(feature_maps*8, 1, kernel_size=15, stride=1, padding=7),\n",
    "            nn.Sigmoid()\n",
    "        )\n",
    "\n",
    "        self.apply(self.weights_init)\n",
    "\n",
    "    def forward(self, x):\n",
    "        return self.model(x).view(-1, 1)  # Flatten output\n",
    "\n",
    "    def weights_init(self, m):\n",
    "        \"\"\"Initializes weights with a normal distribution.\"\"\"\n",
    "        if isinstance(m, nn.Conv1d):\n",
    "            nn.init.normal_(m.weight.data, 0.0, 0.02)\n",
    "            if m.bias is not None:\n",
    "                nn.init.constant_(m.bias.data, 0)\n",
    "        elif isinstance(m, nn.BatchNorm1d):\n",
    "            nn.init.normal_(m.weight.data, 1.0, 0.02)\n",
    "            nn.init.constant_(m.bias.data, 0)\n"
   ]
  },
  {
   "cell_type": "code",
   "execution_count": 10,
   "id": "f19a9102",
   "metadata": {
    "execution": {
     "iopub.execute_input": "2024-11-26T14:00:41.128397Z",
     "iopub.status.busy": "2024-11-26T14:00:41.128107Z",
     "iopub.status.idle": "2024-11-26T14:00:41.186516Z",
     "shell.execute_reply": "2024-11-26T14:00:41.185782Z"
    },
    "papermill": {
     "duration": 0.064961,
     "end_time": "2024-11-26T14:00:41.188129",
     "exception": false,
     "start_time": "2024-11-26T14:00:41.123168",
     "status": "completed"
    },
    "tags": []
   },
   "outputs": [],
   "source": [
    "device = torch.device(\"cuda\" if torch.cuda.is_available() else \"cpu\")"
   ]
  },
  {
   "cell_type": "code",
   "execution_count": 11,
   "id": "772c6e88",
   "metadata": {
    "execution": {
     "iopub.execute_input": "2024-11-26T14:00:41.197914Z",
     "iopub.status.busy": "2024-11-26T14:00:41.197636Z",
     "iopub.status.idle": "2024-11-26T14:00:42.727814Z",
     "shell.execute_reply": "2024-11-26T14:00:42.727114Z"
    },
    "papermill": {
     "duration": 1.537351,
     "end_time": "2024-11-26T14:00:42.729941",
     "exception": false,
     "start_time": "2024-11-26T14:00:41.192590",
     "status": "completed"
    },
    "tags": []
   },
   "outputs": [],
   "source": [
    "generator = Generator().to(device)\n",
    "discriminator = Discriminator().to(device)\n",
    "\n",
    "optimizer_G = optim.Adam(generator.parameters(), lr=0.0002, betas=(0.5, 0.999))\n",
    "optimizer_D = optim.Adam(discriminator.parameters(), lr=0.0002, betas=(0.5, 0.999))\n",
    "\n",
    "adversarial_loss = nn.BCELoss().to(device)\n",
    "l1_loss = nn.L1Loss().to(device)\n",
    "\n",
    "num_epochs = 10\n",
    "lambda_l1 = 100  "
   ]
  },
  {
   "cell_type": "code",
   "execution_count": 12,
   "id": "7a213a35",
   "metadata": {
    "execution": {
     "iopub.execute_input": "2024-11-26T14:00:42.740254Z",
     "iopub.status.busy": "2024-11-26T14:00:42.739890Z",
     "iopub.status.idle": "2024-11-26T14:00:43.572275Z",
     "shell.execute_reply": "2024-11-26T14:00:43.571398Z"
    },
    "papermill": {
     "duration": 0.840058,
     "end_time": "2024-11-26T14:00:43.574474",
     "exception": false,
     "start_time": "2024-11-26T14:00:42.734416",
     "status": "completed"
    },
    "tags": []
   },
   "outputs": [],
   "source": [
    "import numpy as np\n",
    "from pystoi import stoi\n",
    "from pesq import pesq\n",
    "\n",
    "def denormalize_audio(tensor):\n",
    "    return tensor.cpu().numpy()\n",
    "\n",
    "def calculate_snr(clean, denoised):\n",
    "    \n",
    "    noise = clean - denoised\n",
    "    signal_power = np.sum(clean ** 2)\n",
    "    noise_power = np.sum(noise ** 2)\n",
    "    snr = 10 * np.log10(signal_power / noise_power)\n",
    "    return snr\n",
    "\n",
    "def evaluate(generator, val_loader):\n",
    "    generator.eval()\n",
    "    stoi_scores = []\n",
    "    pesq_scores = []\n",
    "    snr_scores = []\n",
    "    with torch.no_grad():\n",
    "        for noisy, clean in val_loader:\n",
    "            noisy = noisy.to(device)\n",
    "            clean = clean.to(device)\n",
    "\n",
    "            denoised = generator(noisy)\n",
    "\n",
    "            clean_np = denormalize_audio(clean.squeeze(1))  \n",
    "            denoised_np = denormalize_audio(denoised.squeeze(1))  \n",
    "\n",
    "            for c, d in zip(clean_np, denoised_np):\n",
    "                if len(c) < 256 or len(d) < 256:\n",
    "                    print(\"Skipping short audio segment.\")\n",
    "                    continue\n",
    "                if np.allclose(c, 0) or np.allclose(d, 0):\n",
    "                    print(\"Skipping silent audio segment.\")\n",
    "                    continue\n",
    "                c = np.clip(c / np.max(np.abs(c)), -1, 1)\n",
    "                d = np.clip(d / np.max(np.abs(d)), -1, 1)\n",
    "\n",
    "                stoi_score = stoi(c, d, 16000) \n",
    "                stoi_scores.append(stoi_score)\n",
    "\n",
    "                try:\n",
    "                    pesq_score = pesq(16000, c, d, mode=\"wb\")  \n",
    "                    pesq_scores.append(pesq_score)\n",
    "                except Exception as e:\n",
    "                    continue\n",
    "\n",
    "                snr_score = calculate_snr(c, d)\n",
    "                snr_scores.append(snr_score)\n",
    "\n",
    "    avg_stoi = np.mean(stoi_scores) if stoi_scores else 0\n",
    "    avg_pesq = np.mean(pesq_scores) if pesq_scores else 0\n",
    "    avg_snr = np.mean(snr_scores) if snr_scores else 0\n",
    "    return avg_stoi, avg_pesq, avg_snr\n",
    "\n"
   ]
  },
  {
   "cell_type": "code",
   "execution_count": 13,
   "id": "4b0ece6d",
   "metadata": {
    "execution": {
     "iopub.execute_input": "2024-11-26T14:00:43.585130Z",
     "iopub.status.busy": "2024-11-26T14:00:43.584714Z",
     "iopub.status.idle": "2024-11-26T14:00:43.856699Z",
     "shell.execute_reply": "2024-11-26T14:00:43.855802Z"
    },
    "papermill": {
     "duration": 0.279523,
     "end_time": "2024-11-26T14:00:43.858567",
     "exception": false,
     "start_time": "2024-11-26T14:00:43.579044",
     "status": "completed"
    },
    "tags": []
   },
   "outputs": [
    {
     "name": "stderr",
     "output_type": "stream",
     "text": [
      "/tmp/ipykernel_23/3602705950.py:1: FutureWarning: You are using `torch.load` with `weights_only=False` (the current default value), which uses the default pickle module implicitly. It is possible to construct malicious pickle data which will execute arbitrary code during unpickling (See https://github.com/pytorch/pytorch/blob/main/SECURITY.md#untrusted-models for more details). In a future release, the default value for `weights_only` will be flipped to `True`. This limits the functions that could be executed during unpickling. Arbitrary objects will no longer be allowed to be loaded via this mode unless they are explicitly allowlisted by the user via `torch.serialization.add_safe_globals`. We recommend you start setting `weights_only=True` for any use case where you don't have full control of the loaded file. Please open an issue on GitHub for any issues related to this experimental feature.\n",
      "  generator_state_dict = torch.load('/kaggle/input/segan-checkpoints/checkpoints/generator_epoch_10.pth')\n",
      "/tmp/ipykernel_23/3602705950.py:2: FutureWarning: You are using `torch.load` with `weights_only=False` (the current default value), which uses the default pickle module implicitly. It is possible to construct malicious pickle data which will execute arbitrary code during unpickling (See https://github.com/pytorch/pytorch/blob/main/SECURITY.md#untrusted-models for more details). In a future release, the default value for `weights_only` will be flipped to `True`. This limits the functions that could be executed during unpickling. Arbitrary objects will no longer be allowed to be loaded via this mode unless they are explicitly allowlisted by the user via `torch.serialization.add_safe_globals`. We recommend you start setting `weights_only=True` for any use case where you don't have full control of the loaded file. Please open an issue on GitHub for any issues related to this experimental feature.\n",
      "  discriminator_state_dict = torch.load('/kaggle/input/segan-checkpoints/checkpoints/discriminator_epoch_10.pth')\n"
     ]
    },
    {
     "data": {
      "text/plain": [
       "<All keys matched successfully>"
      ]
     },
     "execution_count": 13,
     "metadata": {},
     "output_type": "execute_result"
    }
   ],
   "source": [
    "generator_state_dict = torch.load('/kaggle/input/segan-checkpoints/checkpoints/generator_epoch_10.pth')\n",
    "discriminator_state_dict = torch.load('/kaggle/input/segan-checkpoints/checkpoints/discriminator_epoch_10.pth')\n",
    "\n",
    "generator.load_state_dict(generator_state_dict)\n",
    "discriminator.load_state_dict(discriminator_state_dict)"
   ]
  },
  {
   "cell_type": "code",
   "execution_count": 14,
   "id": "dc224370",
   "metadata": {
    "execution": {
     "iopub.execute_input": "2024-11-26T14:00:43.868827Z",
     "iopub.status.busy": "2024-11-26T14:00:43.868538Z",
     "iopub.status.idle": "2024-11-26T15:27:20.316939Z",
     "shell.execute_reply": "2024-11-26T15:27:20.316005Z"
    },
    "papermill": {
     "duration": 5196.462891,
     "end_time": "2024-11-26T15:27:20.325995",
     "exception": false,
     "start_time": "2024-11-26T14:00:43.863104",
     "status": "completed"
    },
    "tags": []
   },
   "outputs": [
    {
     "name": "stdout",
     "output_type": "stream",
     "text": [
      "Epoch [11/20] Batch [0/724] Loss D: 0.0034, Loss G: 9.6226\n",
      "Epoch [11/20] Batch [100/724] Loss D: 0.0009, Loss G: 8.6486\n",
      "Epoch [11/20] Batch [200/724] Loss D: 0.0002, Loss G: 13.4758\n",
      "Epoch [11/20] Batch [300/724] Loss D: 0.0003, Loss G: 10.0713\n",
      "Epoch [11/20] Batch [400/724] Loss D: 0.0003, Loss G: 10.2551\n",
      "Epoch [11/20] Batch [500/724] Loss D: 0.0002, Loss G: 12.6755\n",
      "Epoch [11/20] Batch [600/724] Loss D: 0.0002, Loss G: 10.4064\n",
      "Epoch [11/20] Batch [700/724] Loss D: 0.0003, Loss G: 10.1838\n",
      "Epoch [11/20] Validation - STOI: 0.9252, PESQ: 1.5632, SNR: 10.0618\n",
      "Epoch [1/10] completed.\n",
      "Epoch [12/20] Batch [0/724] Loss D: 0.0002, Loss G: 10.8398\n",
      "Epoch [12/20] Batch [100/724] Loss D: 0.0001, Loss G: 11.5913\n",
      "Epoch [12/20] Batch [200/724] Loss D: 0.0015, Loss G: 10.6394\n",
      "Epoch [12/20] Batch [300/724] Loss D: 0.0009, Loss G: 9.4645\n",
      "Epoch [12/20] Batch [400/724] Loss D: 0.0008, Loss G: 9.6343\n",
      "Epoch [12/20] Batch [500/724] Loss D: 0.0004, Loss G: 9.7515\n",
      "Epoch [12/20] Batch [600/724] Loss D: 0.0005, Loss G: 9.2674\n",
      "Epoch [12/20] Batch [700/724] Loss D: 0.0003, Loss G: 9.3737\n",
      "Epoch [12/20] Validation - STOI: 0.9187, PESQ: 1.5573, SNR: 6.5845\n",
      "Saved model checkpoints for epoch 2.\n",
      "Epoch [2/10] completed.\n",
      "Epoch [13/20] Batch [0/724] Loss D: 0.0005, Loss G: 9.9497\n",
      "Epoch [13/20] Batch [100/724] Loss D: 0.0005, Loss G: 9.7614\n",
      "Epoch [13/20] Batch [200/724] Loss D: 0.0006, Loss G: 8.8661\n",
      "Epoch [13/20] Batch [300/724] Loss D: 0.0005, Loss G: 9.3633\n",
      "Epoch [13/20] Batch [400/724] Loss D: 0.0006, Loss G: 9.8176\n",
      "Epoch [13/20] Batch [500/724] Loss D: 0.0004, Loss G: 9.9991\n",
      "Epoch [13/20] Batch [600/724] Loss D: 0.0004, Loss G: 9.3662\n",
      "Epoch [13/20] Batch [700/724] Loss D: 0.0003, Loss G: 10.4165\n",
      "Epoch [13/20] Validation - STOI: 0.9266, PESQ: 1.6852, SNR: 10.4581\n",
      "Epoch [3/10] completed.\n",
      "Epoch [14/20] Batch [0/724] Loss D: 0.0002, Loss G: 9.7719\n",
      "Epoch [14/20] Batch [100/724] Loss D: 0.0001, Loss G: 11.4770\n",
      "Epoch [14/20] Batch [200/724] Loss D: 0.0064, Loss G: 8.7286\n",
      "Epoch [14/20] Batch [300/724] Loss D: 0.0006, Loss G: 10.9195\n",
      "Epoch [14/20] Batch [400/724] Loss D: 0.0002, Loss G: 11.6189\n",
      "Epoch [14/20] Batch [500/724] Loss D: 0.0004, Loss G: 12.7206\n",
      "Epoch [14/20] Batch [600/724] Loss D: 0.0003, Loss G: 10.5817\n",
      "Epoch [14/20] Batch [700/724] Loss D: 0.0002, Loss G: 11.4179\n",
      "Epoch [14/20] Validation - STOI: 0.9167, PESQ: 1.6412, SNR: 10.0276\n",
      "Saved model checkpoints for epoch 4.\n",
      "Epoch [4/10] completed.\n",
      "Epoch [15/20] Batch [0/724] Loss D: 0.0002, Loss G: 10.7560\n",
      "Epoch [15/20] Batch [100/724] Loss D: 0.0057, Loss G: 8.8478\n",
      "Epoch [15/20] Batch [200/724] Loss D: 0.0003, Loss G: 10.3514\n",
      "Epoch [15/20] Batch [300/724] Loss D: 0.0003, Loss G: 10.5901\n",
      "Epoch [15/20] Batch [400/724] Loss D: 0.0009, Loss G: 10.1101\n",
      "Epoch [15/20] Batch [500/724] Loss D: 0.0083, Loss G: 9.9207\n",
      "Epoch [15/20] Batch [600/724] Loss D: 0.0033, Loss G: 10.2773\n",
      "Epoch [15/20] Batch [700/724] Loss D: 0.0012, Loss G: 11.8271\n",
      "Epoch [15/20] Validation - STOI: 0.9387, PESQ: 1.7483, SNR: 11.5931\n",
      "Epoch [5/10] completed.\n",
      "Epoch [16/20] Batch [0/724] Loss D: 0.0004, Loss G: 11.3102\n",
      "Epoch [16/20] Batch [100/724] Loss D: 0.0029, Loss G: 9.2541\n",
      "Epoch [16/20] Batch [200/724] Loss D: 0.0004, Loss G: 9.4285\n",
      "Epoch [16/20] Batch [300/724] Loss D: 0.0048, Loss G: 9.5258\n",
      "Epoch [16/20] Batch [400/724] Loss D: 0.0006, Loss G: 10.4105\n",
      "Epoch [16/20] Batch [500/724] Loss D: 0.0011, Loss G: 10.8008\n",
      "Epoch [16/20] Batch [600/724] Loss D: 0.6663, Loss G: 2.5446\n",
      "Epoch [16/20] Batch [700/724] Loss D: 0.0013, Loss G: 10.5916\n",
      "Epoch [16/20] Validation - STOI: 0.9154, PESQ: 1.5477, SNR: 8.2440\n",
      "Saved model checkpoints for epoch 6.\n",
      "Epoch [6/10] completed.\n",
      "Epoch [17/20] Batch [0/724] Loss D: 0.0030, Loss G: 9.6050\n",
      "Epoch [17/20] Batch [100/724] Loss D: 0.0005, Loss G: 10.7769\n",
      "Epoch [17/20] Batch [200/724] Loss D: 0.0002, Loss G: 9.9375\n",
      "Epoch [17/20] Batch [300/724] Loss D: 0.0002, Loss G: 10.1798\n",
      "Epoch [17/20] Batch [400/724] Loss D: 0.0002, Loss G: 9.9229\n",
      "Epoch [17/20] Batch [500/724] Loss D: 0.0002, Loss G: 10.2348\n",
      "Epoch [17/20] Batch [600/724] Loss D: 0.0002, Loss G: 10.1309\n",
      "Epoch [17/20] Batch [700/724] Loss D: 0.0002, Loss G: 10.3048\n",
      "Epoch [17/20] Validation - STOI: 0.9299, PESQ: 1.7010, SNR: 11.3635\n",
      "Epoch [7/10] completed.\n",
      "Epoch [18/20] Batch [0/724] Loss D: 0.0002, Loss G: 10.3004\n",
      "Epoch [18/20] Batch [100/724] Loss D: 0.0002, Loss G: 9.8885\n",
      "Epoch [18/20] Batch [200/724] Loss D: 0.0002, Loss G: 10.0377\n",
      "Epoch [18/20] Batch [300/724] Loss D: 0.0021, Loss G: 9.9426\n",
      "Epoch [18/20] Batch [400/724] Loss D: 0.0017, Loss G: 9.7556\n",
      "Epoch [18/20] Batch [500/724] Loss D: 0.0003, Loss G: 11.1866\n",
      "Epoch [18/20] Batch [600/724] Loss D: 0.0003, Loss G: 10.2563\n",
      "Epoch [18/20] Batch [700/724] Loss D: 0.0002, Loss G: 10.7526\n",
      "Epoch [18/20] Validation - STOI: 0.8922, PESQ: 1.1256, SNR: 4.2881\n",
      "Saved model checkpoints for epoch 8.\n",
      "Epoch [8/10] completed.\n",
      "Epoch [19/20] Batch [0/724] Loss D: 0.0001, Loss G: 12.0456\n",
      "Epoch [19/20] Batch [100/724] Loss D: 0.0002, Loss G: 10.8344\n",
      "Epoch [19/20] Batch [200/724] Loss D: 0.0002, Loss G: 11.0038\n",
      "Epoch [19/20] Batch [300/724] Loss D: 0.0001, Loss G: 10.9493\n",
      "Epoch [19/20] Batch [400/724] Loss D: 0.0001, Loss G: 10.8511\n",
      "Epoch [19/20] Batch [500/724] Loss D: 0.0003, Loss G: 10.5985\n",
      "Epoch [19/20] Batch [600/724] Loss D: 0.0001, Loss G: 12.4922\n",
      "Epoch [19/20] Batch [700/724] Loss D: 0.0003, Loss G: 11.0809\n",
      "Epoch [19/20] Validation - STOI: 0.8930, PESQ: 1.4345, SNR: 6.9479\n",
      "Epoch [9/10] completed.\n",
      "Epoch [20/20] Batch [0/724] Loss D: 0.0002, Loss G: 11.4626\n",
      "Epoch [20/20] Batch [100/724] Loss D: 0.0001, Loss G: 10.7914\n",
      "Epoch [20/20] Batch [200/724] Loss D: 0.0001, Loss G: 10.5553\n",
      "Epoch [20/20] Batch [300/724] Loss D: 0.0001, Loss G: 10.8195\n",
      "Epoch [20/20] Batch [400/724] Loss D: 0.0001, Loss G: 11.3686\n",
      "Epoch [20/20] Batch [500/724] Loss D: 0.0001, Loss G: 12.1526\n",
      "Epoch [20/20] Batch [600/724] Loss D: 0.0001, Loss G: 11.2431\n",
      "Epoch [20/20] Batch [700/724] Loss D: 0.0013, Loss G: 22.1643\n",
      "Epoch [20/20] Validation - STOI: 0.8997, PESQ: 1.5293, SNR: 8.2445\n",
      "Saved model checkpoints for epoch 10.\n",
      "Epoch [10/10] completed.\n"
     ]
    }
   ],
   "source": [
    "generator_losses = []\n",
    "discriminator_losses = []\n",
    "epochs = []\n",
    "\n",
    "for epoch in range(num_epochs):\n",
    "    generator.train()\n",
    "    discriminator.train()\n",
    "    epoch_gen_loss = 0\n",
    "    epoch_dis_loss = 0\n",
    "\n",
    "    for i, (noisy, clean) in enumerate(train_loader):\n",
    "        noisy = noisy.to(device)  \n",
    "        clean = clean.to(device)  \n",
    "\n",
    "        batch_size_current = noisy.size(0)\n",
    "        \n",
    "        optimizer_G.zero_grad()\n",
    "        denoised = generator(noisy)\n",
    "        pred_fake = discriminator(denoised)\n",
    "\n",
    "        valid = torch.ones_like(pred_fake).to(device)\n",
    "        fake = torch.zeros_like(pred_fake).to(device)\n",
    "\n",
    "        loss_G_adv = adversarial_loss(pred_fake, valid)\n",
    "        loss_G_l1 = l1_loss(denoised, clean)\n",
    "        loss_G = loss_G_adv + lambda_l1 * loss_G_l1\n",
    "        loss_G.backward()\n",
    "        optimizer_G.step()\n",
    "\n",
    "        optimizer_D.zero_grad()\n",
    "        pred_real = discriminator(clean)\n",
    "        loss_D_real = adversarial_loss(pred_real, valid)\n",
    "\n",
    "        pred_fake = discriminator(denoised.detach())\n",
    "        loss_D_fake = adversarial_loss(pred_fake, fake)\n",
    "        loss_D = (loss_D_real + loss_D_fake) / 2\n",
    "        loss_D.backward()\n",
    "        optimizer_D.step()\n",
    "\n",
    "        epoch_gen_loss += loss_G.item()\n",
    "        epoch_dis_loss += loss_D.item()\n",
    "\n",
    "        if i % 100 == 0:\n",
    "            print(f\"Epoch [{epoch+11}/{num_epochs+10}] Batch [{i}/{len(train_loader)}] \"\n",
    "                  f\"Loss D: {loss_D.item():.4f}, Loss G: {loss_G.item():.4f}\")\n",
    "\n",
    "    avg_gen_loss = epoch_gen_loss / len(train_loader)\n",
    "    avg_dis_loss = epoch_dis_loss / len(train_loader)\n",
    "    \n",
    "    generator_losses.append(avg_gen_loss)\n",
    "    discriminator_losses.append(avg_dis_loss)\n",
    "    epochs.append(epoch + 11)  \n",
    "\n",
    "    avg_stoi, avg_pesq, avg_snr = evaluate(generator, val_loader)\n",
    "    print(f\"Epoch [{epoch+11}/{num_epochs+10}] Validation - STOI: {avg_stoi:.4f}, PESQ: {avg_pesq:.4f}, SNR: {avg_snr:.4f}\")\n",
    "   \n",
    "    if (epoch + 1) % 2 == 0:\n",
    "        checkpoint_dir = 'checkpoints'\n",
    "        os.makedirs(checkpoint_dir, exist_ok=True)\n",
    "        torch.save(generator.state_dict(), os.path.join(checkpoint_dir, f\"generator_epoch_{epoch+11}.pth\"))\n",
    "        torch.save(discriminator.state_dict(), os.path.join(checkpoint_dir, f\"discriminator_epoch_{epoch+11}.pth\"))\n",
    "        print(f\"Saved model checkpoints for epoch {epoch+1}.\")\n",
    "\n",
    "    print(f\"Epoch [{epoch+1}/{num_epochs}] completed.\")\n"
   ]
  },
  {
   "cell_type": "code",
   "execution_count": 15,
   "id": "e7126df2",
   "metadata": {
    "execution": {
     "iopub.execute_input": "2024-11-26T15:27:20.343786Z",
     "iopub.status.busy": "2024-11-26T15:27:20.343258Z",
     "iopub.status.idle": "2024-11-26T15:27:20.621065Z",
     "shell.execute_reply": "2024-11-26T15:27:20.620301Z"
    },
    "papermill": {
     "duration": 0.288446,
     "end_time": "2024-11-26T15:27:20.623003",
     "exception": false,
     "start_time": "2024-11-26T15:27:20.334557",
     "status": "completed"
    },
    "tags": []
   },
   "outputs": [
    {
     "data": {
      "image/png": "[encoded data removed]",
      "text/plain": [
       "<Figure size 1000x600 with 1 Axes>"
      ]
     },
     "metadata": {},
     "output_type": "display_data"
    }
   ],
   "source": [
    "plt.figure(figsize=(10, 6))\n",
    "plt.plot(epochs, generator_losses, label=\"Generator Loss\", color='blue')\n",
    "plt.plot(epochs, discriminator_losses, label=\"Discriminator Loss\", color='red')\n",
    "plt.xlabel(\"Epochs\")\n",
    "plt.ylabel(\"Loss\")\n",
    "plt.title(\"Generator and Discriminator Loss Curves\")\n",
    "plt.legend()\n",
    "plt.grid(True)\n",
    "plt.show()\n"
   ]
  },
  {
   "cell_type": "code",
   "execution_count": 16,
   "id": "4bad3eb6",
   "metadata": {
    "execution": {
     "iopub.execute_input": "2024-11-26T15:27:20.641538Z",
     "iopub.status.busy": "2024-11-26T15:27:20.641032Z",
     "iopub.status.idle": "2024-11-26T15:27:58.689262Z",
     "shell.execute_reply": "2024-11-26T15:27:58.688342Z"
    },
    "papermill": {
     "duration": 38.059465,
     "end_time": "2024-11-26T15:27:58.691470",
     "exception": false,
     "start_time": "2024-11-26T15:27:20.632005",
     "status": "completed"
    },
    "tags": []
   },
   "outputs": [],
   "source": [
    "avg_stoi, avg_pesq , avg_snr = evaluate(generator, test_loader)"
   ]
  },
  {
   "cell_type": "code",
   "execution_count": 17,
   "id": "cab90a74",
   "metadata": {
    "execution": {
     "iopub.execute_input": "2024-11-26T15:27:58.710998Z",
     "iopub.status.busy": "2024-11-26T15:27:58.710318Z",
     "iopub.status.idle": "2024-11-26T15:27:58.714556Z",
     "shell.execute_reply": "2024-11-26T15:27:58.713778Z"
    },
    "papermill": {
     "duration": 0.015247,
     "end_time": "2024-11-26T15:27:58.716190",
     "exception": false,
     "start_time": "2024-11-26T15:27:58.700943",
     "status": "completed"
    },
    "tags": []
   },
   "outputs": [
    {
     "name": "stdout",
     "output_type": "stream",
     "text": [
      " Test Set - STOI: 0.9039, PESQ: 1.5810, SNR: 8.4935\n"
     ]
    }
   ],
   "source": [
    "print(f\" Test Set - STOI: {avg_stoi:.4f}, PESQ: {avg_pesq:.4f}, SNR: {avg_snr:.4f}\")"
   ]
  }
 ],
 "metadata": {
  "kaggle": {
   "accelerator": "gpu",
   "dataSources": [
    {
     "datasetId": 2555204,
     "sourceId": 4340107,
     "sourceType": "datasetVersion"
    },
    {
     "datasetId": 6169754,
     "sourceId": 10019858,
     "sourceType": "datasetVersion"
    }
   ],
   "dockerImageVersionId": 30786,
   "isGpuEnabled": true,
   "isInternetEnabled": true,
   "language": "python",
   "sourceType": "notebook"
  },
  "kernelspec": {
   "display_name": "Python 3",
   "language": "python",
   "name": "python3"
  },
  "language_info": {
   "codemirror_mode": {
    "name": "ipython",
    "version": 3
   },
   "file_extension": ".py",
   "mimetype": "text/x-python",
   "name": "python",
   "nbconvert_exporter": "python",
   "pygments_lexer": "ipython3",
   "version": "3.10.14"
  },
  "papermill": {
   "default_parameters": {},
   "duration": 5317.562494,
   "end_time": "2024-11-26T15:28:01.435227",
   "environment_variables": {},
   "exception": null,
   "input_path": "__notebook__.ipynb",
   "output_path": "__notebook__.ipynb",
   "parameters": {},
   "start_time": "2024-11-26T13:59:23.872733",
   "version": "2.6.0"
  }
 },
 "nbformat": 4,
 "nbformat_minor": 5
}
